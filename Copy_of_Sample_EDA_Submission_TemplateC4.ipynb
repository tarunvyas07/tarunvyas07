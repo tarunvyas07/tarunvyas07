{
  "nbformat": 4,
  "nbformat_minor": 0,
  "metadata": {
    "colab": {
      "private_outputs": true,
      "provenance": [],
      "collapsed_sections": [
        "vncDsAP0Gaoa",
        "FJNUwmbgGyua",
        "yQaldy8SH6Dl",
        "PH-0ReGfmX4f",
        "mDgbUHAGgjLW",
        "3RnN4peoiCZX",
        "x71ZqKXriCWQ",
        "7hBIi_osiCS2",
        "JlHwYmJAmNHm",
        "35m5QtbWiB9F",
        "PoPl-ycgm1ru",
        "H0kj-8xxnORC",
        "nA9Y7ga8ng1Z",
        "dauF4eBmngu3",
        "bKJF3rekwFvQ",
        "MSa1f5Uengrz",
        "0wOQAZs5pc--",
        "K5QZ13OEpz2H",
        "KSlN3yHqYklG",
        "EM7whBJCYoAo",
        "4Of9eVA-YrdM",
        "F6T5p64dYrdO",
        "bamQiAODYuh1",
        "QHF8YVU7Yuh3",
        "GwzvFGzlYuh3",
        "qYpmQ266Yuh3",
        "OH-pJp9IphqM",
        "Seke61FWphqN",
        "PIIx-8_IphqN",
        "r2jJGEOYphqO",
        "b0JNsNcRphqO",
        "BZR9WyysphqO",
        "jj7wYXLtphqO",
        "rFu4xreNphqO",
        "YJ55k-q6phqO",
        "gCFgpxoyphqP",
        "OVtJsKN_phqQ",
        "lssrdh5qphqQ",
        "U2RJ9gkRphqQ",
        "1M8mcRywphqQ",
        "JMzcOPDDphqR",
        "x-EpHcCOp1ci",
        "X_VqEhTip1ck",
        "8zGJKyg5p1ck",
        "PVzmfK_Ep1ck",
        "n3dbpmDWp1ck",
        "ylSl6qgtp1ck",
        "ZWILFDl5p1ck",
        "M7G43BXep1ck",
        "Ag9LCva-p1cl",
        "E6MkPsBcp1cl",
        "2cELzS2fp1cl",
        "3MPXvC8up1cl",
        "NC_X3p0fY2L0",
        "YPEH6qLeZNRQ",
        "q29F0dvdveiT",
        "JcMwzZxoAimU",
        "gCX9965dhzqZ",
        "gIfDvo9L0UH2"
      ],
      "include_colab_link": true
    },
    "kernelspec": {
      "name": "python3",
      "display_name": "Python 3"
    },
    "language_info": {
      "name": "python"
    }
  },
  "cells": [
    {
      "cell_type": "markdown",
      "metadata": {
        "id": "view-in-github",
        "colab_type": "text"
      },
      "source": [
        "<a href=\"https://colab.research.google.com/github/tarunvyas07/tarunvyas07/blob/main/Copy_of_Sample_EDA_Submission_TemplateC4.ipynb\" target=\"_parent\"><img src=\"https://colab.research.google.com/assets/colab-badge.svg\" alt=\"Open In Colab\"/></a>"
      ]
    },
    {
      "cell_type": "markdown",
      "source": [
        "# **Project Name**    -\n",
        "\n"
      ],
      "metadata": {
        "id": "vncDsAP0Gaoa"
      }
    },
    {
      "cell_type": "markdown",
      "source": [
        "##### **Project Type**    - EDA/Regression/Classification/Unsupervised\n",
        "##### **Contribution**    - Individual\n",
        "##### **Name**            - Tarun Vyas"
      ],
      "metadata": {
        "id": "beRrZCGUAJYm"
      }
    },
    {
      "cell_type": "markdown",
      "source": [
        "# **Project Summary -**"
      ],
      "metadata": {
        "id": "FJNUwmbgGyua"
      }
    },
    {
      "cell_type": "markdown",
      "source": [
        "THIS PROJECT GIVE US IDEA ABOUT HOTEL BOOKINGS PATTERN.\n",
        "\n",
        "Initial Observations\n",
        "\n",
        "* Data Completeness: Columns like agent, company, and children have missing values.\n",
        "* Date Columns: Arrival dates are spread across different columns, making it essential to combine these for better time-series analysis.\n",
        "* Categorical Variables: Many categorical variables such as hotel, meal, market_segment, and distribution_channel will require encoding for machine learning models.\n",
        "* Numerical Variables: Columns like lead_time, adr, and stays_in_weekend_nights will require statistical analysis to understand distributions and identify outliers.\n"
      ],
      "metadata": {
        "id": "F6v_1wHtG2nS"
      }
    },
    {
      "cell_type": "markdown",
      "source": [
        "# **GitHub Link -**"
      ],
      "metadata": {
        "id": "w6K7xa23Elo4"
      }
    },
    {
      "cell_type": "markdown",
      "source": [
        "Provide your GitHub Link here.\n",
        "\n",
        "https://github.com/tarunvyas07/tarunvyas07/blob/b18e3c5c0a9df0895155747ff40ee311954f00a1/Hotel_Bokking_EDA_project.ipynb"
      ],
      "metadata": {
        "id": "h1o69JH3Eqqn"
      }
    },
    {
      "cell_type": "code",
      "source": [],
      "metadata": {
        "id": "qd6-sVz-lYft"
      },
      "execution_count": null,
      "outputs": []
    },
    {
      "cell_type": "markdown",
      "source": [
        "# **Problem Statement**\n"
      ],
      "metadata": {
        "id": "yQaldy8SH6Dl"
      }
    },
    {
      "cell_type": "markdown",
      "source": [
        "**Write Problem Statement Here.**\n",
        "\n",
        " * This dataset contains anonymized booking information for a city hotel and a resort hotel. It includes details like booking dates, length of stay, number of guests, parking availability, and more.\n",
        "\n",
        "  We can use this data to answer important questions such as:\n",
        "\n",
        " * What is the best time of year to book a hotel room for the best rates? Is there an optimal length of stay to get the best daily rate? Are certain hotels more likely to receive a higher number of special requests?\n",
        "\n",
        "Through exploration and analysis, we aim to uncover valuable insights to help hotel owners, managers, and guests make informed decisions.\n"
      ],
      "metadata": {
        "id": "DpeJGUA3kjGy"
      }
    },
    {
      "cell_type": "markdown",
      "source": [
        "#### **Define Your Business Objective?**"
      ],
      "metadata": {
        "id": "PH-0ReGfmX4f"
      }
    },
    {
      "cell_type": "markdown",
      "source": [
        "* Objective- Identify the best time of year to book rooms for better rates, determine the optimal length of stay for the best daily rates, and explore the impact of guest demographics and parking availability on bookings.Additionally, investigate hotels with a high number of special requests. Provide actionable insights to help hotel owners and managers optimize pricing strategies, improve guest experience, and enhance overall booking performance."
      ],
      "metadata": {
        "id": "PhDvGCAqmjP1"
      }
    },
    {
      "cell_type": "markdown",
      "source": [
        "# **General Guidelines** : -  "
      ],
      "metadata": {
        "id": "mDgbUHAGgjLW"
      }
    },
    {
      "cell_type": "markdown",
      "source": [
        "1.   Well-structured, formatted, and commented code is required.\n",
        "2.   Exception Handling, Production Grade Code & Deployment Ready Code will be a plus. Those students will be awarded some additional credits.\n",
        "     \n",
        "     The additional credits will have advantages over other students during Star Student selection.\n",
        "       \n",
        "             [ Note: - Deployment Ready Code is defined as, the whole .ipynb notebook should be executable in one go\n",
        "                       without a single error logged. ]\n",
        "\n",
        "3.   Each and every logic should have proper comments.\n",
        "4. You may add as many number of charts you want. Make Sure for each and every chart the following format should be answered.\n",
        "        \n",
        "\n",
        "```\n",
        "# Chart visualization code\n",
        "```\n",
        "            \n",
        "\n",
        "*   Why did you pick the specific chart?\n",
        "*   What is/are the insight(s) found from the chart?\n",
        "* Will the gained insights help creating a positive business impact?\n",
        "Are there any insights that lead to negative growth? Justify with specific reason.\n",
        "\n",
        "5. You have to create at least 20 logical & meaningful charts having important insights.\n",
        "\n",
        "\n",
        "[ Hints : - Do the Vizualization in  a structured way while following \"UBM\" Rule.\n",
        "\n",
        "U - Univariate Analysis,\n",
        "\n",
        "B - Bivariate Analysis (Numerical - Categorical, Numerical - Numerical, Categorical - Categorical)\n",
        "\n",
        "M - Multivariate Analysis\n",
        " ]\n",
        "\n",
        "\n",
        "\n"
      ],
      "metadata": {
        "id": "ZrxVaUj-hHfC"
      }
    },
    {
      "cell_type": "markdown",
      "source": [
        "# ***Let's Begin !***"
      ],
      "metadata": {
        "id": "O_i_v8NEhb9l"
      }
    },
    {
      "cell_type": "markdown",
      "source": [
        "## ***1. Know Your Data***"
      ],
      "metadata": {
        "id": "HhfV-JJviCcP"
      }
    },
    {
      "cell_type": "markdown",
      "source": [
        "### Import Libraries"
      ],
      "metadata": {
        "id": "Y3lxredqlCYt"
      }
    },
    {
      "cell_type": "code",
      "source": [
        "# Import Libraries\n",
        "import numpy as np\n",
        "import pandas as pd\n",
        "import matplotlib.pyplot as plt\n",
        "import seaborn as sns\n"
      ],
      "metadata": {
        "id": "M8Vqi-pPk-HR"
      },
      "execution_count": null,
      "outputs": []
    },
    {
      "cell_type": "markdown",
      "source": [
        "### Dataset Loading"
      ],
      "metadata": {
        "id": "3RnN4peoiCZX"
      }
    },
    {
      "cell_type": "code",
      "source": [
        "# Load Dataset\n",
        "from google .colab import drive\n",
        "drive.mount ('/content/drive')\n",
        "path='/content/drive/MyDrive/Hotel Bookings.csv'\n",
        "\n"
      ],
      "metadata": {
        "id": "4CkvbW_SlZ_R"
      },
      "execution_count": null,
      "outputs": []
    },
    {
      "cell_type": "code",
      "source": [
        "df=pd.read_csv(path)\n",
        "df"
      ],
      "metadata": {
        "id": "nRFFuz03raEw"
      },
      "execution_count": null,
      "outputs": []
    },
    {
      "cell_type": "markdown",
      "source": [
        "### Dataset First View"
      ],
      "metadata": {
        "id": "x71ZqKXriCWQ"
      }
    },
    {
      "cell_type": "code",
      "source": [
        "# Dataset First Look\n",
        "\n",
        "# print first 5 rows\n",
        "df.head()"
      ],
      "metadata": {
        "id": "LWNFOSvLl09H"
      },
      "execution_count": null,
      "outputs": []
    },
    {
      "cell_type": "markdown",
      "source": [
        "### Dataset Rows & Columns count"
      ],
      "metadata": {
        "id": "7hBIi_osiCS2"
      }
    },
    {
      "cell_type": "code",
      "source": [
        "# Dataset Rows & Columns count\n",
        "df.shape"
      ],
      "metadata": {
        "id": "Kllu7SJgmLij"
      },
      "execution_count": null,
      "outputs": []
    },
    {
      "cell_type": "markdown",
      "source": [
        "### Dataset Information"
      ],
      "metadata": {
        "id": "JlHwYmJAmNHm"
      }
    },
    {
      "cell_type": "code",
      "source": [
        "# Dataset Info\n",
        "df.info()"
      ],
      "metadata": {
        "id": "e9hRXRi6meOf"
      },
      "execution_count": null,
      "outputs": []
    },
    {
      "cell_type": "markdown",
      "source": [
        "#### Duplicate Values"
      ],
      "metadata": {
        "id": "35m5QtbWiB9F"
      }
    },
    {
      "cell_type": "code",
      "source": [
        "# Dataset Duplicate Value Count\n",
        "df.duplicated().value_counts()"
      ],
      "metadata": {
        "id": "1sLdpKYkmox0"
      },
      "execution_count": null,
      "outputs": []
    },
    {
      "cell_type": "markdown",
      "source": [
        "#### Missing Values/Null Values"
      ],
      "metadata": {
        "id": "PoPl-ycgm1ru"
      }
    },
    {
      "cell_type": "code",
      "source": [
        "# Missing Values/Null Values Count\n",
        "df.isnull().sum()"
      ],
      "metadata": {
        "id": "GgHWkxvamxVg"
      },
      "execution_count": null,
      "outputs": []
    },
    {
      "cell_type": "code",
      "source": [
        "# Visualizing the missing values\n",
        "sns.heatmap(df.isnull(), cbar=False)\n",
        "plt.show()\n"
      ],
      "metadata": {
        "id": "3q5wnI3om9sJ"
      },
      "execution_count": null,
      "outputs": []
    },
    {
      "cell_type": "markdown",
      "source": [
        "### What did you know about your dataset?"
      ],
      "metadata": {
        "id": "H0kj-8xxnORC"
      }
    },
    {
      "cell_type": "markdown",
      "source": [
        "* It is a collection of information of hotel bookings, arrival time,cancled time, total no. of person,meal ,room type,etc.\n",
        "* This dataset contains in total 119390 rows and 32 columns.\n",
        "* As we can see there are many null values also in the company and agents columns.\n",
        "* This dataset aslo contains as many as 31994 duplicate values which we will have to remove from the dataset in order to analyse the data properly.\n",
        "\n"
      ],
      "metadata": {
        "id": "gfoNAAC-nUe_"
      }
    },
    {
      "cell_type": "markdown",
      "source": [
        "## ***2. Understanding Your Variables***"
      ],
      "metadata": {
        "id": "nA9Y7ga8ng1Z"
      }
    },
    {
      "cell_type": "code",
      "source": [
        "# Dataset Columns\n",
        "df.columns"
      ],
      "metadata": {
        "id": "j7xfkqrt5Ag5"
      },
      "execution_count": null,
      "outputs": []
    },
    {
      "cell_type": "code",
      "source": [
        "# Dataset Describe\n",
        "df.describe()"
      ],
      "metadata": {
        "id": "DnOaZdaE5Q5t"
      },
      "execution_count": null,
      "outputs": []
    },
    {
      "cell_type": "markdown",
      "source": [
        "### Variables Description"
      ],
      "metadata": {
        "id": "PBTbrJXOngz2"
      }
    },
    {
      "cell_type": "markdown",
      "source": [
        "1. hotel : Name of the hotel (Resort Hotel or City Hotel)\n",
        "\n",
        "2. is_canceled : If the booking was canceled (1) or not (0)\n",
        "\n",
        "3. lead_time: Number of days before the actual arrival of the guests\n",
        "\n",
        "4. arrival_date_year : Year of arrival date\n",
        "\n",
        "5. arrival_date_month : Month of month arrival date\n",
        "\n",
        "6. arrival_date_week_number : Week number of year for arrival date\n",
        "\n",
        "7. arrival_date_day_of_month : Day of arrival date\n",
        "\n",
        "8. stays_in_weekend_nights : Number of weekend nights (Saturday or Sunday) spent at the hotel by the guests.\n",
        "\n",
        "9. stays_in_week_nights : Number of weeknights (Monday to Friday) spent at the hotel by the guests.\n",
        "\n",
        "10. adults : Number of adults among guests\n",
        "\n",
        "11. children : Number of children among guests\n",
        "\n",
        "12. babies : Number of babies among guests\n",
        "\n",
        "13. meal : Type of meal booked\n",
        "\n",
        "14. country : Country of guests\n",
        "\n",
        "15. market_segment : Designation of market segment\n",
        "\n",
        "16. distribution_channel : Name of booking distribution channel\n",
        "\n",
        "17. is_repeated_guest : If the booking was from a repeated guest (1) or not (0)\n",
        "\n",
        "18. previous_cancellations : Number of previous bookings that were cancelled by the customer prior to the current booking\n",
        "\n",
        "19. previous_bookings_not_canceled : Number of previous bookings not cancelled by the customer prior to the current booking\n",
        "\n",
        "20. reserved_room_type : Code of room type reserved\n",
        "\n",
        "21. assigned_room_type : Code of room type assigned\n",
        "\n",
        "22. booking_changes : Number of changes/amendments made to the booking\n",
        "\n",
        "23. deposit_type : Type of the deposit made by the guest\n",
        "\n",
        "24. agent : ID of travel agent who made the booking\n",
        "\n",
        "25. company : ID of the company that made the booking\n",
        "\n",
        "26. days_in_waiting_list : Number of days the booking was in the waiting list\n",
        "\n",
        "27. customer_type : Type of customer, assuming one of four categories\n",
        "\n",
        "28. adr : Average Daily Rate, as defined by dividing the sum of all lodging transactions by the total number of staying nights\n",
        "\n",
        "29. required_car_parking_spaces : Number of car parking spaces required by the customer\n",
        "\n",
        "30. total_of_special_requests : Number of special requests made by the customer\n",
        "\n",
        "31. reservation_status : Reservation status (Canceled, Check-Out or No-Show)\n",
        "\n",
        "32. reservation_status_date : Date at which the last reservation status was updated"
      ],
      "metadata": {
        "id": "aJV4KIxSnxay"
      }
    },
    {
      "cell_type": "markdown",
      "source": [
        "### Check Unique Values for each variable."
      ],
      "metadata": {
        "id": "u3PMJOP6ngxN"
      }
    },
    {
      "cell_type": "code",
      "source": [
        "# Check Unique Values for each variable.\n",
        "for col in df.describe(include='object').columns:\n",
        "    print(col)\n",
        "    print(df[col].unique())\n",
        "    print('-'*50)\n",
        "\n"
      ],
      "metadata": {
        "id": "zms12Yq5n-jE"
      },
      "execution_count": null,
      "outputs": []
    },
    {
      "cell_type": "markdown",
      "source": [
        "## 3. ***Data Wrangling***"
      ],
      "metadata": {
        "id": "dauF4eBmngu3"
      }
    },
    {
      "cell_type": "markdown",
      "source": [
        "### Data Wrangling Code"
      ],
      "metadata": {
        "id": "bKJF3rekwFvQ"
      }
    },
    {
      "cell_type": "code",
      "source": [
        "# Write your code to make your dataset analysis ready.\n",
        "#Let's delete all the duplicate values in the dataset first\n",
        "df = df.drop_duplicates()\n",
        "df"
      ],
      "metadata": {
        "id": "wk-9a2fpoLcV"
      },
      "execution_count": null,
      "outputs": []
    },
    {
      "cell_type": "code",
      "source": [
        "# Now Check the duplicates values\n",
        "df.duplicated().value_counts()"
      ],
      "metadata": {
        "id": "CMDtjDo46zyz"
      },
      "execution_count": null,
      "outputs": []
    },
    {
      "cell_type": "code",
      "source": [
        "# In this datset agent and compony columns have too much null values and are insignificant for our analysis so lets drop both the columns\n",
        "df.drop([\"agent\",\"company\"],axis=1,inplace= True)\n",
        "df"
      ],
      "metadata": {
        "id": "ayCU9SxGPU5w"
      },
      "execution_count": null,
      "outputs": []
    },
    {
      "cell_type": "code",
      "source": [
        "df.columns"
      ],
      "metadata": {
        "id": "i0faZ3NEPXfj"
      },
      "execution_count": null,
      "outputs": []
    },
    {
      "cell_type": "code",
      "source": [
        "#Creating a skewed histogram to check for details for \"Children\" column\n",
        "sns.histplot(data=df,x ='children',kde=True)"
      ],
      "metadata": {
        "id": "dbQGepuMPaIj"
      },
      "execution_count": null,
      "outputs": []
    },
    {
      "cell_type": "code",
      "source": [
        "# Calculate the median number of children in the dataset\n",
        "children_median = df[\"children\"].median()\n",
        "children_median"
      ],
      "metadata": {
        "id": "hy79-_kQQOx5"
      },
      "execution_count": null,
      "outputs": []
    },
    {
      "cell_type": "code",
      "source": [
        "# Let's take and check the columns \"Children \" for null value and try to handle it\n",
        "df[\"children\"].isnull().sum()"
      ],
      "metadata": {
        "id": "9yJM7mV75-ee"
      },
      "execution_count": null,
      "outputs": []
    },
    {
      "cell_type": "code",
      "source": [
        "# fill all the null values with the previous value in column\n",
        "df[\"children\"].fillna(value = children_median , inplace = True)"
      ],
      "metadata": {
        "id": "Si82PVitPndQ"
      },
      "execution_count": null,
      "outputs": []
    },
    {
      "cell_type": "code",
      "source": [
        "# Create a histogram to check the distribution of the 'country' column\n",
        "sns.histplot(data=df,x ='country',kde=True)\n",
        "plt.show()"
      ],
      "metadata": {
        "id": "62GXqvTsPokI"
      },
      "execution_count": null,
      "outputs": []
    },
    {
      "cell_type": "code",
      "source": [
        "# Let's take and check the columns 'country' for null value and try to handle it\n",
        "df['country'].isnull().sum()"
      ],
      "metadata": {
        "id": "2Cp5IwKRQqwM"
      },
      "execution_count": null,
      "outputs": []
    },
    {
      "cell_type": "code",
      "source": [
        "# Now let's work with the missing data in country column\n",
        "df['country'].fillna(method = \"ffill\", inplace = True)"
      ],
      "metadata": {
        "id": "fJavsR9QPfEB"
      },
      "execution_count": null,
      "outputs": []
    },
    {
      "cell_type": "code",
      "source": [
        "df.isnull().sum()"
      ],
      "metadata": {
        "id": "CDPmjRNKPKkM"
      },
      "execution_count": null,
      "outputs": []
    },
    {
      "cell_type": "code",
      "source": [
        "# Adding total staying days in hotels\n",
        "df['total_stay'] = df['stays_in_weekend_nights']+df['stays_in_week_nights']\n",
        "\n",
        "# Adding total people num as column, i.e. total people num = num of adults + children + babies\n",
        "df['total_people'] = df['adults']+df['children']+df['babies']\n",
        "df.head(2)"
      ],
      "metadata": {
        "id": "3YclBpwMO2IG"
      },
      "execution_count": null,
      "outputs": []
    },
    {
      "cell_type": "markdown",
      "source": [
        "### What all manipulations have you done and insights you found?\n",
        "In this section I have done some manipulations on the dataset which are as follows:-\n",
        "\n",
        "* first of all dropped all the duplicates which are originally present in the dataset. Which bring down the no. of duplicates to 0 from 31994.\n",
        "\n",
        "* In this datset agent and compony columns have too much null values and are insignificant for our analysis so dropped both the columns.\n",
        "\n",
        "* Handled null values in the columns of \"children\" and \"country\" using different method.\n",
        "* \"children\" column is filled using median method.\n",
        "\n",
        "* \"country\" column is filled with the help of mode data.\n",
        "\n",
        "* Doing some manipulation and created two variables - total_stay and total_people"
      ],
      "metadata": {
        "id": "MSa1f5Uengrz"
      }
    },
    {
      "cell_type": "markdown",
      "source": [],
      "metadata": {
        "id": "LbyXE7I1olp8"
      }
    },
    {
      "cell_type": "markdown",
      "source": [
        "## ***4. Data Vizualization, Storytelling & Experimenting with charts : Understand the relationships between variables***"
      ],
      "metadata": {
        "id": "GF8Ens_Soomf"
      }
    },
    {
      "cell_type": "markdown",
      "source": [
        "#### Chart - 1"
      ],
      "metadata": {
        "id": "0wOQAZs5pc--"
      }
    },
    {
      "cell_type": "code",
      "source": [
        "# Chart - 1 visualization code\n",
        "\n",
        "#create a figure for the plot with specified size\n",
        "plt.figure(figsize=(7,5))\n",
        "# Creating count  plot using dataset\n",
        "sns.countplot(x='hotel',hue='is_canceled',data=df)\n",
        "#display the plot\n",
        "plt.show()"
      ],
      "metadata": {
        "id": "7v_ESjsspbW7"
      },
      "execution_count": null,
      "outputs": []
    },
    {
      "cell_type": "markdown",
      "source": [
        "##### 1. Why did you pick the specific chart?"
      ],
      "metadata": {
        "id": "K5QZ13OEpz2H"
      }
    },
    {
      "cell_type": "markdown",
      "source": [
        " A count plot is straightforward and effective for visualizing categorical data, making it easy to compare counts across different categories."
      ],
      "metadata": {
        "id": "XESiWehPqBRc"
      }
    },
    {
      "cell_type": "markdown",
      "source": [],
      "metadata": {
        "id": "448CDAPjqfQr"
      }
    },
    {
      "cell_type": "markdown",
      "source": [
        "##### 2. What is/are the insight(s) found from the chart?"
      ],
      "metadata": {
        "id": "lQ7QKXXCp7Bj"
      }
    },
    {
      "cell_type": "markdown",
      "source": [
        "\n",
        "The plot allows us to compare the cancellation status ('is_canceled') across different types of hotels. This could be useful for understanding if cancellation patterns vary between different hotel categories (e.g., resort hotels vs. city hotels)."
      ],
      "metadata": {
        "id": "C_j1G7yiqdRP"
      }
    },
    {
      "cell_type": "markdown",
      "source": [
        "The insights gained from visualizing cancellation patterns by hotel type can indeed help create a positive business impact in several ways:\n",
        "\n",
        "* Optimizing Booking Policies\n",
        "\n",
        "* Revenue Management\n",
        "\n",
        "* Operational Efficiency\n",
        "\n",
        "* Customer Experience"
      ],
      "metadata": {
        "id": "q0SqgEuvwHJt"
      }
    },
    {
      "cell_type": "markdown",
      "source": [
        "##### 3. Will the gained insights help creating a positive business impact?\n",
        "Are there any insights that lead to negative growth? Justify with specific reason."
      ],
      "metadata": {
        "id": "ZZko0zeFxu-6"
      }
    },
    {
      "cell_type": "markdown",
      "source": [
        "* The insights gained from the count plot of hotel cancellations can indeed help create a positive business impact by providing valuable information.\n",
        "\n",
        "* The count plot provides a visual representation of cancellation trends across different hotel types, offering actionable insights for business decisions. Positive impacts can be achieved through strategic adjustments in pricing, policies, and customer service, informed by cancellation patterns"
      ],
      "metadata": {
        "id": "nkedpk8sxinh"
      }
    },
    {
      "cell_type": "markdown",
      "source": [
        "#### Chart - 2"
      ],
      "metadata": {
        "id": "KSlN3yHqYklG"
      }
    },
    {
      "cell_type": "code",
      "source": [
        "# Chart - 2 visualization code\n",
        "\n",
        " #create a figure for the plot with specified size\n",
        "plt.figure(figsize=(9,4))\n",
        "# Creating line plot using dataset\n",
        "sns.lineplot(x='arrival_date_month', y='adr', hue='hotel', data= df)\n",
        "#display the plot\n",
        "plt.show()"
      ],
      "metadata": {
        "id": "R4YgtaqtYklH"
      },
      "execution_count": null,
      "outputs": []
    },
    {
      "cell_type": "markdown",
      "source": [
        "##### 1. Why did you pick the specific chart?"
      ],
      "metadata": {
        "id": "t6dVpIINYklI"
      }
    },
    {
      "cell_type": "markdown",
      "source": [
        "\n",
        "The line plot is chosen for its ability to showcase temporal trends and variations in ADR(average daily rate) across different months and hotel types. It provides a clear, comparative view that is essential for understanding seasonal patterns, identifying trends, and making informed decisions in hospitality management."
      ],
      "metadata": {
        "id": "5aaW0BYyYklI"
      }
    },
    {
      "cell_type": "markdown",
      "source": [
        "##### 2. What is/are the insight(s) found from the chart?"
      ],
      "metadata": {
        "id": "ijmpgYnKYklI"
      }
    },
    {
      "cell_type": "markdown",
      "source": [
        " The line plot of ADR by month and hotel type provides valuable insights into seasonal pricing trends, comparisons between hotel types, and the impact of external factors on pricing decisions. These insights are crucial for formulating effective revenue management strategies and optimizing business performance in the hospitality industry."
      ],
      "metadata": {
        "id": "PSx9atu2YklI"
      }
    },
    {
      "cell_type": "markdown",
      "source": [
        "##### 3. Will the gained insights help creating a positive business impact?\n",
        "Are there any insights that lead to negative growth? Justify with specific reason."
      ],
      "metadata": {
        "id": "-JiQyfWJYklI"
      }
    },
    {
      "cell_type": "markdown",
      "source": [
        "The insights gained from analyzing ADR trends by hotel type and month can indeed help create a positive business impact by optimizing pricing strategies, forecasting demand, and enhancing competitive positioning. However, identifying negative growth factors such as price sensitivity or adverse market conditions is equally crucial. Continuous monitoring of ADR trends and proactive adjustment of strategies based on these insights will be essential for sustaining positive growth and profitability in the hospitality industry."
      ],
      "metadata": {
        "id": "BcBbebzrYklV"
      }
    },
    {
      "cell_type": "markdown",
      "source": [
        "#### Chart - 3"
      ],
      "metadata": {
        "id": "EM7whBJCYoAo"
      }
    },
    {
      "cell_type": "code",
      "source": [
        "# Chart - 3 visualization code\n",
        "top_5_arrival_date_month = df['arrival_date_month'].value_counts().head(5)\n",
        "print(top_5_arrival_date_month)\n",
        "\n",
        "# Define colors for the pie chart\n",
        "colors = ['green', 'red', 'grey', 'yellow', 'blue']\n",
        "\n",
        "# Set up the figure size for the plot\n",
        "plt.figure(figsize = (7,5))\n",
        "\n",
        "plt.title(\"top_5_arrival_date_month\")\n",
        "\n",
        "# Create a doughnut chart (pie chart)  using the top 10 countries data\n",
        "plt.pie(top_5_arrival_date_month, colors = colors, startangle = 35, autopct =\"%.2f\", labels=top_5_arrival_date_month.index, wedgeprops={'width': 0.6})\n",
        "plt.show()"
      ],
      "metadata": {
        "id": "t6GMdE67YoAp"
      },
      "execution_count": null,
      "outputs": []
    },
    {
      "cell_type": "markdown",
      "source": [
        "##### 1. Why did you pick the specific chart?"
      ],
      "metadata": {
        "id": "fge-S5ZAYoAp"
      }
    },
    {
      "cell_type": "markdown",
      "source": [
        "The doughnut chart (pie chart) was chosen specifically for its ability to effectively display the composition and relative proportions of the top 5(arrival_date_month) in terms of guest counts. It allows viewers to easily compare the contribution of each month to the total number of guests, making it a suitable choice for this type of data visualization.\n"
      ],
      "metadata": {
        "id": "5dBItgRVYoAp"
      }
    },
    {
      "cell_type": "markdown",
      "source": [
        "##### 2. What is/are the insight(s) found from the chart?"
      ],
      "metadata": {
        "id": "85gYPyotYoAp"
      }
    },
    {
      "cell_type": "markdown",
      "source": [
        "The chart visually represents the distribution of reservations across the top 5 arrival months. You can see at a glance which months attract the highest number of bookings.\n",
        "* It highlights seasonal variations in hotel reservations. For example, you might observe higher bookings during summer months or lower bookings during winter months"
      ],
      "metadata": {
        "id": "4jstXR6OYoAp"
      }
    },
    {
      "cell_type": "markdown",
      "source": [
        "##### 3. Will the gained insights help creating a positive business impact?\n",
        "Are there any insights that lead to negative growth? Justify with specific reason."
      ],
      "metadata": {
        "id": "RoGjAbkUYoAp"
      }
    },
    {
      "cell_type": "markdown",
      "source": [
        "Yes, insights from the doughnut chart illustrating the distribution of reservations across different months can potentially lead to negative growth .\n",
        "\n",
        "* To mitigate these risks and achieve sustainable growth, hotels should use insights from seasonal booking patterns to develop comprehensive strategies that balance peak and off-peak periods. This includes diversifying revenue streams, optimizing pricing strategies year-round, enhancing guest experiences consistently, and investing in marketing efforts that promote year-round occupancy."
      ],
      "metadata": {
        "id": "zfJ8IqMcYoAp"
      }
    },
    {
      "cell_type": "markdown",
      "source": [
        "#### Chart - 4"
      ],
      "metadata": {
        "id": "4Of9eVA-YrdM"
      }
    },
    {
      "cell_type": "code",
      "source": [
        "# Chart - 4 visualization code\n",
        "# Set up the figure size for the plot\n",
        "plt.figure(figsize=(8,6))\n",
        "\n",
        "# Create a count plot using Seaborn\n",
        "sns.countplot(data = df, x = 'is_repeated_guest',)\n",
        "plt.title('Graph showing whether guest is repeated guest')\n",
        "plt.xlabel('Is Repeated Guest')\n",
        "plt.ylabel('Count')\n",
        "\n",
        "# Display the plot\n",
        "plt.show()"
      ],
      "metadata": {
        "id": "irlUoxc8YrdO"
      },
      "execution_count": null,
      "outputs": []
    },
    {
      "cell_type": "markdown",
      "source": [
        "##### 1. Why did you pick the specific chart?"
      ],
      "metadata": {
        "id": "iky9q4vBYrdO"
      }
    },
    {
      "cell_type": "markdown",
      "source": [
        "The countplot was chosen because it is well-suited for displaying categorical data comparisons and provides a clear, immediate understanding of the distribution of repeated and non-repeated guests in the dataset."
      ],
      "metadata": {
        "id": "aJRCwT6DYrdO"
      }
    },
    {
      "cell_type": "markdown",
      "source": [
        "##### 2. What is/are the insight(s) found from the chart?"
      ],
      "metadata": {
        "id": "F6T5p64dYrdO"
      }
    },
    {
      "cell_type": "markdown",
      "source": [
        "The count plot shows the distribution of guests categorized as repeated guests (is_repeated_guest = 1) versus non-repeated guests (is_repeated_guest = 0).\n",
        "\n",
        " * It is evident that guests are non-repeated guests. It underscores the importance of focusing on guest satisfaction, service quality, and targeted marketing efforts to maximize customer retention and ultimately drive positive business outcomes in the hospitality industry."
      ],
      "metadata": {
        "id": "Xx8WAJvtYrdO"
      }
    },
    {
      "cell_type": "markdown",
      "source": [
        "##### 3. Will the gained insights help creating a positive business impact?\n",
        "Are there any insights that lead to negative growth? Justify with specific reason."
      ],
      "metadata": {
        "id": "y-Ehk30pYrdP"
      }
    },
    {
      "cell_type": "markdown",
      "source": [
        "* The insights gained from analyzing repeated guests versus first-time guests can help create a positive business impact by focusing on customer retention, enhancing loyalty programs, and improving overall guest experience.\n",
        "\n",
        "* However, identifying and addressing issues related to low customer retention among repeated guests is crucial to avoid potential negative growth factors. Continuous efforts in customer relationship management and personalized guest services based on these insights will be essential for sustaining growth and profitability in the competitive hospitality industry."
      ],
      "metadata": {
        "id": "jLNxxz7MYrdP"
      }
    },
    {
      "cell_type": "markdown",
      "source": [
        "#### Chart - 5"
      ],
      "metadata": {
        "id": "bamQiAODYuh1"
      }
    },
    {
      "cell_type": "code",
      "source": [
        "# Chart - 5 visualization\n",
        "# Get the counts of each meal type in the 'meal' column\n",
        "meal_type = df['meal'].value_counts()\n",
        "print(meal_type.index)\n",
        "print(meal_type.values)\n",
        "print(meal_type)\n",
        "\n",
        "# Define colors for the bar chart\n",
        "colors = ['grey', 'blue', 'green', 'purple', 'orange']\n",
        "\n",
        "# Set up the figure size and background color for the plot\n",
        "plt.figure(figsize =(4,3),\n",
        "           facecolor = \"yellow\")\n",
        "\n",
        "# Create a bar plot using Seaborn\n",
        "plt.bar(meal_type.index, meal_type.values,color= colors)\n",
        "plt.xlabel(\"Type of Meal\")\n",
        "plt.ylabel('Count')\n",
        "plt.title('Count of Different Meal Types')\n",
        "\n",
        "# Display the plot\n",
        "plt.show()"
      ],
      "metadata": {
        "id": "TIJwrbroYuh3"
      },
      "execution_count": null,
      "outputs": []
    },
    {
      "cell_type": "markdown",
      "source": [
        "##### 1. Why did you pick the specific chart?"
      ],
      "metadata": {
        "id": "QHF8YVU7Yuh3"
      }
    },
    {
      "cell_type": "markdown",
      "source": [
        "The bar chart is used to show comparision of prefered meal type by the guests during their stay in hotel. The abbreviations used here are:-\n",
        "\n",
        "1. BB means bed and breakfast\n",
        "2. SC means self-catering (no meals are included)\n",
        "3. HB means half board, in which breakfast and dinner are included.\n",
        "4. FB means full board, in which breakfast, lunch and dinner are included."
      ],
      "metadata": {
        "id": "dcxuIMRPYuh3"
      }
    },
    {
      "cell_type": "markdown",
      "source": [
        "##### 2. What is/are the insight(s) found from the chart?"
      ],
      "metadata": {
        "id": "GwzvFGzlYuh3"
      }
    },
    {
      "cell_type": "markdown",
      "source": [
        "The insights we can draw here is that the most preferd type of meal is BB i.e. Bed and Breakfast. Other Meal types are significantly not prfered by guest compared to BB type. The 2nd best most prefered meal type is SC which is self catering. The difference between top two types is huge which is about to 7000 counts."
      ],
      "metadata": {
        "id": "uyqkiB8YYuh3"
      }
    },
    {
      "cell_type": "markdown",
      "source": [
        "##### 3. Will the gained insights help creating a positive business impact?\n",
        "Are there any insights that lead to negative growth? Justify with specific reason."
      ],
      "metadata": {
        "id": "qYpmQ266Yuh3"
      }
    },
    {
      "cell_type": "markdown",
      "source": [
        "This bar shows very much negative insights as there is a huge difference in top two most prefered Meal type. This is due to the factors such as cost management and demand fluctuations through effective menu planning, inventory management, and customer-centric strategies.Continuous monitoring of guest preferences and adaptation of dining offerings based on these insights will be crucial for maintaining competitiveness and profitability in the hospitality industry."
      ],
      "metadata": {
        "id": "_WtzZ_hCYuh4"
      }
    },
    {
      "cell_type": "markdown",
      "source": [
        "#### Chart - 6"
      ],
      "metadata": {
        "id": "OH-pJp9IphqM"
      }
    },
    {
      "cell_type": "code",
      "source": [
        "# Chart - 6 visualization\n",
        "plt.figure(figsize=(3,3))\n",
        "sns.violinplot(x='hotel',y='adr',data=df)\n",
        "plt.show()"
      ],
      "metadata": {
        "id": "kuRf4wtuphqN"
      },
      "execution_count": null,
      "outputs": []
    },
    {
      "cell_type": "markdown",
      "source": [
        "##### 1. Why did you pick the specific chart?"
      ],
      "metadata": {
        "id": "bbFf2-_FphqN"
      }
    },
    {
      "cell_type": "markdown",
      "source": [
        "I picked the violin plot because it is a versatile and informative chart that can effectively visualize the distribution of data."
      ],
      "metadata": {
        "id": "loh7H2nzphqN"
      }
    },
    {
      "cell_type": "markdown",
      "source": [
        "##### 2. What is/are the insight(s) found from the chart?"
      ],
      "metadata": {
        "id": "_ouA3fa0phqN"
      }
    },
    {
      "cell_type": "markdown",
      "source": [
        "The key insights from this violin plot are the ability to visually compare the distribution shape, central tendency, spread, and outliers of the ADR data across the different hotels. This allows for a more comprehensive understanding of the ADR characteristics than would be possible with summary statistics alone"
      ],
      "metadata": {
        "id": "VECbqPI7phqN"
      }
    },
    {
      "cell_type": "markdown",
      "source": [
        "##### 3. Will the gained insights help creating a positive business impact?\n",
        "Are there any insights that lead to negative growth? Justify with specific reason."
      ],
      "metadata": {
        "id": "Seke61FWphqN"
      }
    },
    {
      "cell_type": "markdown",
      "source": [
        "The insights gained from the violin plot can have a positive impact by informing pricing strategies, revenue management, benchmarking, and expansion decisions. However, it is crucial to maintain a balanced approach, considering ADR alongside other key performance indicators and operational factors to ensure sustainable business growth."
      ],
      "metadata": {
        "id": "DW4_bGpfphqN"
      }
    },
    {
      "cell_type": "markdown",
      "source": [
        "#### Chart - 7"
      ],
      "metadata": {
        "id": "PIIx-8_IphqN"
      }
    },
    {
      "cell_type": "code",
      "source": [
        "# Chart - 7 visualization code\n",
        "# Calculate the number of reservations for each hotel type\n",
        "hotel_preferred = df[\"hotel\"].value_counts()\n",
        "\n",
        "# Define colors for the bars in the bar plot\n",
        "colors = ['green', 'blue']\n",
        "\n",
        "# Create a new figure for the plot with specified size\n",
        "plt.figure(figsize=(7, 5))\n",
        "\n",
        "# Set labels and title for the plot\n",
        "plt.xlabel(\"Hotel Types\")\n",
        "plt.ylabel(\"Number of Reservations\")\n",
        "plt.title(\"Preferred Hotel Type for Reservations\")\n",
        "\n",
        "# Create a bar plot\n",
        "plt.bar([\"City Hotel\", \"Resort Hotel\"], hotel_preferred, color=colors)\n",
        "\n",
        "# Display the plot\n",
        "plt.show()"
      ],
      "metadata": {
        "id": "lqAIGUfyphqO"
      },
      "execution_count": null,
      "outputs": []
    },
    {
      "cell_type": "markdown",
      "source": [
        "##### 1. Why did you pick the specific chart?"
      ],
      "metadata": {
        "id": "t27r6nlMphqO"
      }
    },
    {
      "cell_type": "markdown",
      "source": [
        "Barplot helps to visualize the comparison between two components easily. A bar chart balances simplicity and clarity, making it an ideal choice for presenting the distribution of reservations between the two types of hotels."
      ],
      "metadata": {
        "id": "iv6ro40sphqO"
      }
    },
    {
      "cell_type": "markdown",
      "source": [
        "##### 2. What is/are the insight(s) found from the chart?"
      ],
      "metadata": {
        "id": "r2jJGEOYphqO"
      }
    },
    {
      "cell_type": "markdown",
      "source": [
        "In this barplot we have compared reservation status of city hotel and resort hotel. It is clearly visible that city hotels have more reservations than resort hotels. City hotels are preferd by more than 40000 customers."
      ],
      "metadata": {
        "id": "Po6ZPi4hphqO"
      }
    },
    {
      "cell_type": "markdown",
      "source": [
        "##### 3. Will the gained insights help creating a positive business impact?\n",
        "Are there any insights that lead to negative growth? Justify with specific reason."
      ],
      "metadata": {
        "id": "b0JNsNcRphqO"
      }
    },
    {
      "cell_type": "markdown",
      "source": [
        "Nothing negative insights can be drawn through this chart. Resort hotels were less prefered over city hotels so business management should announce some discounts and offers to attract more customers to the Resort hotels."
      ],
      "metadata": {
        "id": "xvSq8iUTphqO"
      }
    },
    {
      "cell_type": "markdown",
      "source": [
        "#### Chart - 8"
      ],
      "metadata": {
        "id": "BZR9WyysphqO"
      }
    },
    {
      "cell_type": "code",
      "source": [
        "# Chart - 8 visualization code\n",
        "\n",
        "# Get the top 10 countries by the number of occurrences in the 'country' column\n",
        "top_10_countries = df[\"country\"].value_counts().head(10)\n",
        "print(top_10_countries)\n",
        "\n",
        "# Define colors for the pie chart\n",
        "colors = ['indigo','yellow', 'red', 'green', 'blue', 'orange', 'purple', 'gold', 'pink', 'violet']\n",
        "\n",
        "# Set up the figure size for the plot\n",
        "plt.figure(figsize = (6,5))\n",
        "\n",
        "plt.title(\"Top 10 Countries\")\n",
        "\n",
        "# Create a doughnut chart (pie chart)  using the top 10 countries data\n",
        "plt.pie(top_10_countries, colors = colors, startangle = 35, autopct =\"%.2f\", labels=top_10_countries.index, wedgeprops={'width': 0.6})\n",
        "plt.show()"
      ],
      "metadata": {
        "id": "TdPTWpAVphqO"
      },
      "execution_count": null,
      "outputs": []
    },
    {
      "cell_type": "markdown",
      "source": [
        "##### 1. Why did you pick the specific chart?"
      ],
      "metadata": {
        "id": "jj7wYXLtphqO"
      }
    },
    {
      "cell_type": "markdown",
      "source": [
        "The doughnut chart (pie chart) was chosen specifically for its ability to effectively display the composition and relative proportions of the top 10 countries in terms of guest counts. It allows viewers to easily compare the contribution of each country to the total number of guests, making it a suitable choice for this type of data visualization."
      ],
      "metadata": {
        "id": "Ob8u6rCTphqO"
      }
    },
    {
      "cell_type": "markdown",
      "source": [
        "##### 2. What is/are the insight(s) found from the chart?"
      ],
      "metadata": {
        "id": "eZrbJ2SmphqO"
      }
    },
    {
      "cell_type": "markdown",
      "source": [
        "The pie chart depicting the top 10 countries by bookings provides insights into customer demographics, market segmentation opportunities, and potential seasonal trends in travel behavior. These insights are crucial for strategic decision-making in marketing, customer service, and operational planning within the hospitality industry."
      ],
      "metadata": {
        "id": "mZtgC_hjphqO"
      }
    },
    {
      "cell_type": "markdown",
      "source": [
        "##### 3. Will the gained insights help creating a positive business impact?\n",
        "Are there any insights that lead to negative growth? Justify with specific reason."
      ],
      "metadata": {
        "id": "rFu4xreNphqO"
      }
    },
    {
      "cell_type": "markdown",
      "source": [
        "The insights gained from analyzing the distribution of bookings among the top 10 countries can indeed help create a positive business impact by optimizing marketing strategies, enhancing revenue opportunities, and improving operational efficiency. However, it is essential to address potential negative growth factors such as dependency on specific markets and market saturation by adopting a diversified approach and proactive risk management strategies. Continuous monitoring of booking trends and adaptation of strategies based on these insights will be crucial for sustained growth and resilience in the hospitality industry."
      ],
      "metadata": {
        "id": "ey_0qi68phqO"
      }
    },
    {
      "cell_type": "markdown",
      "source": [
        "#### Chart - 9"
      ],
      "metadata": {
        "id": "YJ55k-q6phqO"
      }
    },
    {
      "cell_type": "code",
      "source": [
        "# Chart - 9 visualization\n",
        "\n",
        "# Filter the DataFrame to include only non-cancelled bookings\n",
        "not_cancelled = df[df[\"is_canceled\"] == 0]\n",
        "\n",
        "# Get the top 10 countries by the number of non-cancelled bookings\n",
        "top_10_countries = not_cancelled[\"country\"].value_counts().head(10)\n",
        "print(top_10_countries)\n",
        "\n",
        "# Define colors for the pie charts\n",
        "colors =  ['indigo','yellow', 'red', 'green', 'blue', 'orange', 'purple', 'gold', 'pink', 'violet']\n",
        "\n",
        "# Set up the figure size for the plots\n",
        "plt.figure(figsize=(14, 7))\n",
        "\n",
        "# Create the first subplot for non-cancelled bookings\n",
        "plt.subplot(1, 2, 1)\n",
        "plt.title(\"Top 10 Countries Not to Cancel\")\n",
        "plt.pie(top_10_countries, colors=colors, startangle=35, autopct=\"%.2f%%\", labels=top_10_countries.index)\n",
        "\n",
        "# Filter the DataFrame to include only cancelled bookings\n",
        "cancelled = df[df[\"is_canceled\"] == 1]\n",
        "\n",
        "# Get the top 10 countries by the number of cancelled bookings\n",
        "top_10_countries = cancelled[\"country\"].value_counts().head(10)\n",
        "\n",
        "# Create the second subplot for cancelled bookings\n",
        "plt.subplot(1, 2, 2)\n",
        "plt.title(\"Top 10 Countries to Cancel\")\n",
        "plt.pie(top_10_countries, colors=colors, startangle=20, autopct=\"%.2f%%\", labels=top_10_countries.index)\n",
        "\n",
        "# Display the plots\n",
        "plt.show()"
      ],
      "metadata": {
        "id": "B2aS4O1ophqO"
      },
      "execution_count": null,
      "outputs": []
    },
    {
      "cell_type": "markdown",
      "source": [
        "##### 1. Why did you pick the specific chart?"
      ],
      "metadata": {
        "id": "gCFgpxoyphqP"
      }
    },
    {
      "cell_type": "markdown",
      "source": [
        "The side-by-side pie chart comparison of top countries for not canceled and canceled bookings was chosen because it effectively presents a comparative analysis of cancellation patterns across different countries. It allows stakeholders in the hospitality industry to quickly grasp which countries are more prone to cancellations and how these patterns compare to countries with successful bookings."
      ],
      "metadata": {
        "id": "TVxDimi2phqP"
      }
    },
    {
      "cell_type": "markdown",
      "source": [
        "##### 2. What is/are the insight(s) found from the chart?"
      ],
      "metadata": {
        "id": "OVtJsKN_phqQ"
      }
    },
    {
      "cell_type": "markdown",
      "source": [
        "The insights gained can guide hotels in optimizing their strategies to enhance booking conversion rates, reduce cancellations, and improve overall guest satisfaction by focusing on key markets and addressing potential issues leading to cancellations."
      ],
      "metadata": {
        "id": "ngGi97qjphqQ"
      }
    },
    {
      "cell_type": "markdown",
      "source": [
        "##### 3. Will the gained insights help creating a positive business impact?\n",
        "Are there any insights that lead to negative growth? Justify with specific reason."
      ],
      "metadata": {
        "id": "lssrdh5qphqQ"
      }
    },
    {
      "cell_type": "markdown",
      "source": [
        "The insights gained from analyzing booking and cancellation patterns across different countries can indeed help create a positive business impact by optimizing marketing strategies, reducing cancellations, and improving revenue management. However, it is crucial to address negative growth factors such as high cancellation rates and dependency on specific markets through targeted initiatives aimed at enhancing customer satisfaction, optimizing booking processes, and diversifying market outreach. Continuous monitoring and adaptation of strategies based on these insights will be essential for sustainable growth and resilience in the hospitality industry."
      ],
      "metadata": {
        "id": "tBpY5ekJphqQ"
      }
    },
    {
      "cell_type": "markdown",
      "source": [
        "#### Chart - 10"
      ],
      "metadata": {
        "id": "U2RJ9gkRphqQ"
      }
    },
    {
      "cell_type": "code",
      "source": [
        "# Chart - 10 visualization code\n",
        " # Creates a new DataFrame called 'num_data' that contains only the numerical columns (integer and float)\n",
        "num_data=df.select_dtypes(include=['int64','float64'])\n",
        "\n",
        "# Calculates the correlation matrix for the numerical columns in \"num_data\".\n",
        "num_data.corr()\n",
        "\n",
        "# Set up the figure size for the plots\n",
        "plt.figure(figsize=(20,8))\n",
        "\n",
        "# Create a heat map\n",
        "sns.heatmap(num_data.corr(),annot=True)\n",
        "\n",
        "# Display the plot\n",
        "plt.show()"
      ],
      "metadata": {
        "id": "GM7a4YP4phqQ"
      },
      "execution_count": null,
      "outputs": []
    },
    {
      "cell_type": "markdown",
      "source": [
        "##### 1. Why did you pick the specific chart?"
      ],
      "metadata": {
        "id": "1M8mcRywphqQ"
      }
    },
    {
      "cell_type": "markdown",
      "source": [
        "* Find co-relation between multiple numerical column."
      ],
      "metadata": {
        "id": "8agQvks0phqQ"
      }
    },
    {
      "cell_type": "markdown",
      "source": [
        "##### 2. What is/are the insight(s) found from the chart?"
      ],
      "metadata": {
        "id": "tgIPom80phqQ"
      }
    },
    {
      "cell_type": "markdown",
      "source": [
        "The correlation heatmap can provide valuable insights into the hotel booking dataset, helping you identify important relationships between the numerical features, detect potential multicollinearity, and prepare the data for more advanced modeling and analysis."
      ],
      "metadata": {
        "id": "Qp13pnNzphqQ"
      }
    },
    {
      "cell_type": "markdown",
      "source": [
        "##### 3. Will the gained insights help creating a positive business impact?\n",
        "Are there any insights that lead to negative growth? Justify with specific reason."
      ],
      "metadata": {
        "id": "JMzcOPDDphqR"
      }
    },
    {
      "cell_type": "markdown",
      "source": [
        "NO"
      ],
      "metadata": {
        "id": "R4Ka1PC2phqR"
      }
    },
    {
      "cell_type": "markdown",
      "source": [
        "#### Chart - 11"
      ],
      "metadata": {
        "id": "x-EpHcCOp1ci"
      }
    },
    {
      "cell_type": "code",
      "source": [
        "# Chart - 11 visualization code\n",
        "# Calculate the number of bookings for each market segment and display the top 5\n",
        "market_segment = df['market_segment'].value_counts().head()\n",
        "print(market_segment)\n",
        "\n",
        "# Define colors for each market segment\n",
        "colors = ['blue', 'green', 'orange', 'grey', 'yellow']\n",
        "\n",
        "# Create a horizontal bar plot\n",
        "plt.figure(figsize=(4, 3))\n",
        "sns.barplot(x=market_segment.values,\n",
        "            y=market_segment.index,\n",
        "            palette= colors)\n",
        "\n",
        "plt.xlabel(\"No of Bookings\")\n",
        "plt.ylabel(\"Booked through\")\n",
        "plt.title(\"Mode of Booking\")\n",
        "\n",
        "# Display the plot\n",
        "plt.show()\n",
        "\n"
      ],
      "metadata": {
        "id": "mAQTIvtqp1cj"
      },
      "execution_count": null,
      "outputs": []
    },
    {
      "cell_type": "markdown",
      "source": [
        "##### 1. Why did you pick the specific chart?"
      ],
      "metadata": {
        "id": "X_VqEhTip1ck"
      }
    },
    {
      "cell_type": "markdown",
      "source": [
        "A horizontal bar chart makes it easier to read the labels on the y-axis, especially if the category names are long or if the viewer needs to quickly understand the different categories"
      ],
      "metadata": {
        "id": "-vsMzt_np1ck"
      }
    },
    {
      "cell_type": "markdown",
      "source": [
        "##### 2. What is/are the insight(s) found from the chart?"
      ],
      "metadata": {
        "id": "8zGJKyg5p1ck"
      }
    },
    {
      "cell_type": "markdown",
      "source": [
        "* This chart provides a clear visual representation of how customers prefer to book their accommodations. It is clear that most of the bookings were done through Online Travel Agents and 2nd best option to book hotel was Offline TA/TO."
      ],
      "metadata": {
        "id": "ZYdMsrqVp1ck"
      }
    },
    {
      "cell_type": "markdown",
      "source": [
        "##### 3. Will the gained insights help creating a positive business impact?\n",
        "Are there any insights that lead to negative growth? Justify with specific reason."
      ],
      "metadata": {
        "id": "PVzmfK_Ep1ck"
      }
    },
    {
      "cell_type": "markdown",
      "source": [
        "* There is a huge difference between bookings through Online and Offline TA. So credibility of offline travel agents should increase by various means like cheap and best tour packages, best hotels, incrased in persaon contact with customer, etc."
      ],
      "metadata": {
        "id": "druuKYZpp1ck"
      }
    },
    {
      "cell_type": "markdown",
      "source": [
        "#### Chart - 12"
      ],
      "metadata": {
        "id": "n3dbpmDWp1ck"
      }
    },
    {
      "cell_type": "code",
      "source": [
        "# Chart - 12 visualization code\n",
        "\n",
        "# Set up the figure size for the plots\n",
        "plt.figure(figsize=(8, 6))\n",
        "\n",
        "# Plot a histogram of the lead time\n",
        "sns.histplot(data=df, x=\"lead_time\", kde=True, bins=20)\n",
        "\n",
        "# Add labels and title\n",
        "plt.xlabel(\"Lead Time (in days)\")\n",
        "plt.ylabel(\"Frequency\")\n",
        "plt.title(\"Distribution of Lead Time for Hotel Bookings\")\n",
        "\n",
        "# Show the plot\n",
        "plt.show()"
      ],
      "metadata": {
        "id": "bwevp1tKp1ck"
      },
      "execution_count": null,
      "outputs": []
    },
    {
      "cell_type": "markdown",
      "source": [
        "##### 1. Why did you pick the specific chart?"
      ],
      "metadata": {
        "id": "ylSl6qgtp1ck"
      }
    },
    {
      "cell_type": "markdown",
      "source": [
        "* I chose to create a histogram with a kernel density estimate (KDE) curve to visualize the distribution of lead time for hotel bookings.\n",
        "* It is a valuable tool for exploring and understanding the lead time distribution in the hotel booking dataset."
      ],
      "metadata": {
        "id": "m2xqNkiQp1ck"
      }
    },
    {
      "cell_type": "markdown",
      "source": [
        "##### 2. What is/are the insight(s) found from the chart?"
      ],
      "metadata": {
        "id": "ZWILFDl5p1ck"
      }
    },
    {
      "cell_type": "markdown",
      "source": [
        "* The histogram, stakeholders can gain insights into the typical lead times for hotel bookings, identify any patterns or anomalies, and potentially adjust strategies based on these findings.\n"
      ],
      "metadata": {
        "id": "x-lUsV2mp1ck"
      }
    },
    {
      "cell_type": "markdown",
      "source": [
        "##### 3. Will the gained insights help creating a positive business impact?\n",
        "Are there any insights that lead to negative growth? Justify with specific reason."
      ],
      "metadata": {
        "id": "M7G43BXep1ck"
      }
    },
    {
      "cell_type": "markdown",
      "source": [
        " * Insights from lead time analysis can greatly benefit a hotel's business operations and strategy, they must be interpreted and applied effectively to harness positive impacts while mitigating potential negative outcomes. This requires a balanced approach that considers both historical trends and real-time adjustments to optimize business performance and customer satisfaction."
      ],
      "metadata": {
        "id": "5wwDJXsLp1cl"
      }
    },
    {
      "cell_type": "markdown",
      "source": [
        "#### Chart - 13"
      ],
      "metadata": {
        "id": "Ag9LCva-p1cl"
      }
    },
    {
      "source": [
        "# Chart - 13 visualization code\n",
        "\n",
        "grouped_by_hotel = df.groupby('hotel')  # Create the grouped DataFrame\n",
        "\n",
        "# Calculate the average waiting period for each hotel type\n",
        "d5 = pd.DataFrame(grouped_by_hotel['days_in_waiting_list'].agg(np.mean).reset_index().rename(columns = {'days_in_waiting_list':'avg_waiting_period'}))\n",
        "\n",
        "# Set up the figure size for the plot\n",
        "plt.figure(figsize = (8,5))\n",
        "\n",
        "# Create a bar plot using Seaborn\n",
        "sns.barplot(x = d5['hotel'], y = d5['avg_waiting_period'],)\n",
        "\n",
        "plt.xlabel('Hotel')\n",
        "plt.ylabel('Average Waiting Period')\n",
        "plt.title('Average Waiting Period by Hotel')\n",
        "\n",
        "#Displaying the plot\n",
        "plt.show()"
      ],
      "cell_type": "code",
      "metadata": {
        "id": "vNZZtDmWzpxS"
      },
      "execution_count": null,
      "outputs": []
    },
    {
      "cell_type": "markdown",
      "source": [
        "##### 1. Why did you pick the specific chart?"
      ],
      "metadata": {
        "id": "E6MkPsBcp1cl"
      }
    },
    {
      "cell_type": "markdown",
      "source": [
        "The bar plot was selected because it effectively communicates the comparison of average waiting periods between different hotel types (city hotel vs. resort hotel) in a clear and visually engaging manner. It allows viewers to quickly grasp the insights regarding waiting times at different types of hotels."
      ],
      "metadata": {
        "id": "V22bRsFWp1cl"
      }
    },
    {
      "cell_type": "markdown",
      "source": [
        "##### 2. What is/are the insight(s) found from the chart?"
      ],
      "metadata": {
        "id": "2cELzS2fp1cl"
      }
    },
    {
      "cell_type": "markdown",
      "source": [
        "The insights gained from the average waiting period analysis by hotel type provide valuable information for operational improvements and enhancing customer experience. Shorter waiting periods contribute positively to business outcomes by improving customer satisfaction and operational efficiency. Conversely, longer waiting periods highlight areas for improvement to prevent potential negative impacts on guest satisfaction and business performance. Thus, the focus should be on optimizing processes to minimize waiting times and maximize operational efficiency in hospitality operations."
      ],
      "metadata": {
        "id": "ozQPc2_Ip1cl"
      }
    },
    {
      "cell_type": "markdown",
      "source": [
        "##### 3. Will the gained insights help creating a positive business impact?\n",
        "Are there any insights that lead to negative growth? Justify with specific reason."
      ],
      "metadata": {
        "id": "3MPXvC8up1cl"
      }
    },
    {
      "cell_type": "markdown",
      "source": [
        "The insights gained from analyzing the average waiting period by hotel type can help create a positive business impact by optimizing reservation processes and enhancing guest satisfaction. However, identifying and addressing longer waiting periods is critical to avoid potential negative growth factors such as customer dissatisfaction and revenue loss. Continuous monitoring and improvement of reservation management practices based on these insights will be essential for maintaining competitiveness and profitability in the hospitality industry."
      ],
      "metadata": {
        "id": "GL8l1tdLp1cl"
      }
    },
    {
      "cell_type": "markdown",
      "source": [
        "#### Chart - 14 - Correlation Heatmap"
      ],
      "metadata": {
        "id": "NC_X3p0fY2L0"
      }
    },
    {
      "cell_type": "code",
      "source": [
        "# Correlation Heatmap visualization code\n",
        "# Calculate the correlation matrix for the selected columns\n",
        "corr_df = df[['lead_time','previous_cancellations', 'previous_bookings_not_canceled',\n",
        "                    'booking_changes', 'days_in_waiting_list', 'adr', 'required_car_parking_spaces', 'total_of_special_requests']].corr()\n",
        "\n",
        "# Set up the figure size for the heatmap\n",
        "f, ax = plt.subplots(figsize=(12, 12))\n",
        "\n",
        "# Create a heatmap using Seaborn\n",
        "sns.heatmap(corr_df, annot = True, fmt='.2f', annot_kws={'size': 10},  vmax=1, square=True, cmap=\"YlGnBu\")\n",
        "\n",
        "# Show the plot\n",
        "plt.show()"
      ],
      "metadata": {
        "id": "xyC9zolEZNRQ"
      },
      "execution_count": null,
      "outputs": []
    },
    {
      "cell_type": "markdown",
      "source": [
        "##### 1. Why did you pick the specific chart?"
      ],
      "metadata": {
        "id": "UV0SzAkaZNRQ"
      }
    },
    {
      "cell_type": "markdown",
      "source": [
        "This code calculates the correlation matrix for a selection of columns from a DataFrame (df) and then creates a heatmap using Seaborn to visualize the correlations."
      ],
      "metadata": {
        "id": "DVPuT8LYZNRQ"
      }
    },
    {
      "cell_type": "markdown",
      "source": [
        "##### 2. What is/are the insight(s) found from the chart?"
      ],
      "metadata": {
        "id": "YPEH6qLeZNRQ"
      }
    },
    {
      "cell_type": "markdown",
      "source": [
        "The heatmap of the correlation matrix provides insights into the relationships between the selected columns in the DataFrame.\n"
      ],
      "metadata": {
        "id": "bfSqtnDqZNRR"
      }
    },
    {
      "cell_type": "markdown",
      "source": [
        "#### Chart - 15 - Pair Plot"
      ],
      "metadata": {
        "id": "q29F0dvdveiT"
      }
    },
    {
      "cell_type": "code",
      "source": [
        "# Pair Plot visualization code\n",
        "sns.pairplot(df)\n",
        "plt.show"
      ],
      "metadata": {
        "id": "o58-TEIhveiU"
      },
      "execution_count": null,
      "outputs": []
    },
    {
      "cell_type": "markdown",
      "source": [
        "##### 1. Why did you pick the specific chart?"
      ],
      "metadata": {
        "id": "EXh0U9oCveiU"
      }
    },
    {
      "cell_type": "markdown",
      "source": [
        "A pair plot is chosen for its ability to provide a holistic view of the dataset, allowing us to understand relationships between variables and gain insights that can inform further analysis or decision-making. It’s a versatile tool in exploratory data analysis (EDA) that facilitates both quantitative and qualitative understanding of data patterns."
      ],
      "metadata": {
        "id": "eMmPjTByveiU"
      }
    },
    {
      "cell_type": "markdown",
      "source": [
        "##### 2. What is/are the insight(s) found from the chart?"
      ],
      "metadata": {
        "id": "22aHeOlLveiV"
      }
    },
    {
      "cell_type": "markdown",
      "source": [
        "The pair plot visualization provides a comprehensive overview of the relationships and distributions within the dataset. Insights such as correlations, distributions, outliers, and patterns can guide further analysis and decision-making in various domains, including marketing, operations, and customer service. It serves as a starting point for deeper exploratory data analysis (EDA) and hypothesis testing to uncover meaningful insights and trends in the data."
      ],
      "metadata": {
        "id": "uPQ8RGwHveiV"
      }
    },
    {
      "cell_type": "markdown",
      "source": [
        "## **5. Solution to Business Objective**"
      ],
      "metadata": {
        "id": "JcMwzZxoAimU"
      }
    },
    {
      "cell_type": "markdown",
      "source": [
        "#### What do you suggest the client to achieve Business Objective ?\n",
        "\n",
        "* Improve Customer Experience and Satisfaction - On the basis of insights gathered from the datasets there are some of the negative constraints from the point of view of guests so business clients should work positively on the issues and improve those.\n",
        "\n",
        "\n",
        "* **Enhance Operational Efficiency** - Clients should improve operational processes and resource allocation based on data insights to enhance efficiency and reduce costs. This can be done by optimize staffing levels, inventory management, and service allocation to match predicted demand patterns derived from data analysis.\n",
        "\n",
        "\n",
        "* **Optimize Revenue Management Strategies** - Adjust pricing strategies dynamically based on demand fluctuations observed in the data. Implement promotional pricing during low occupancy periods and optimize room rates during peak times.\n",
        "\n",
        "\n",
        "* **Develop Competitive Advantage** - Differentiate the hotel's offerings by identifying and capitalizing on unique strengths and market opportunities.Benchmark against competitors using industry data and analytics. Identify areas where the hotel can excel and develop strategies to attract and retain guests through superior service, amenities, or unique experiences.\n",
        "\n",
        "\n",
        "* **Implement Data-Driven Decision Making** - Foster a culture of data-driven decision making across the organization to drive continuous improvement and innovation.Establish clear KPIs (Key Performance Indicators) aligned with business objectives. Regularly analyze performance metrics and adjust strategies based on insights derived from ongoing data analysis.\n",
        "\n"
      ],
      "metadata": {
        "id": "8G2x9gOozGDZ"
      }
    },
    {
      "cell_type": "markdown",
      "source": [
        "Answer Here."
      ],
      "metadata": {
        "id": "pASKb0qOza21"
      }
    },
    {
      "cell_type": "markdown",
      "source": [],
      "metadata": {
        "id": "5pSRPmtpb3As"
      }
    },
    {
      "cell_type": "markdown",
      "source": [
        "# **Conclusion**"
      ],
      "metadata": {
        "id": "gCX9965dhzqZ"
      }
    },
    {
      "cell_type": "markdown",
      "source": [
        "* City hotel is popular and best compair to Resort hotel.\n",
        "* Summer see the most booking.\n",
        "* Wating period is more in city hotel.\n",
        "* Through online ta bokking is maximun.\n",
        "* Top booking from PRT(portugal)=27836 and GBR(Great Britain)\n",
        "  =10462\n",
        "* The most prefered meal is BB i.e Bed and Breakfast\n",
        "* There are more guest on weekend.\n",
        "* The adr of city hotel is very high.\n",
        "* City hotel retains more guests.\n",
        "* guest stay 1-4 days on average.\n"
      ],
      "metadata": {
        "id": "Fjb1IsQkh3yE"
      }
    },
    {
      "cell_type": "markdown",
      "source": [
        "### ***Hurrah! You have successfully completed your EDA Capstone Project !!!***"
      ],
      "metadata": {
        "id": "gIfDvo9L0UH2"
      }
    }
  ]
}