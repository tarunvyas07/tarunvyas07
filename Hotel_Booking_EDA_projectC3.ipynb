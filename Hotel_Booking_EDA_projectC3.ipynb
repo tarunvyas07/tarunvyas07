{
  "nbformat": 4,
  "nbformat_minor": 0,
  "metadata": {
    "colab": {
      "private_outputs": true,
      "provenance": [],
      "collapsed_sections": [
        "vncDsAP0Gaoa",
        "FJNUwmbgGyua",
        "w6K7xa23Elo4",
        "yQaldy8SH6Dl",
        "mDgbUHAGgjLW",
        "O_i_v8NEhb9l",
        "HhfV-JJviCcP",
        "nA9Y7ga8ng1Z",
        "dauF4eBmngu3",
        "GF8Ens_Soomf",
        "0wOQAZs5pc--",
        "KSlN3yHqYklG",
        "EM7whBJCYoAo",
        "4Of9eVA-YrdM",
        "bamQiAODYuh1",
        "OH-pJp9IphqM",
        "PIIx-8_IphqN",
        "BZR9WyysphqO",
        "YJ55k-q6phqO",
        "U2RJ9gkRphqQ",
        "x-EpHcCOp1ci",
        "n3dbpmDWp1ck",
        "Ag9LCva-p1cl",
        "Ehb79SczpgAF",
        "PS5audikp5mc",
        "NC_X3p0fY2L0",
        "q29F0dvdveiT",
        "JcMwzZxoAimU",
        "gCX9965dhzqZ",
        "gIfDvo9L0UH2"
      ],
      "include_colab_link": true
    },
    "kernelspec": {
      "name": "python3",
      "display_name": "Python 3"
    },
    "language_info": {
      "name": "python"
    }
  },
  "cells": [
    {
      "cell_type": "markdown",
      "metadata": {
        "id": "view-in-github",
        "colab_type": "text"
      },
      "source": [
        "<a href=\"https://colab.research.google.com/github/tarunvyas07/tarunvyas07/blob/main/Hotel_Booking_EDA_projectC3.ipynb\" target=\"_parent\"><img src=\"https://colab.research.google.com/assets/colab-badge.svg\" alt=\"Open In Colab\"/></a>"
      ]
    },
    {
      "cell_type": "markdown",
      "source": [
        "# **Project Name**    -\n",
        "\n"
      ],
      "metadata": {
        "id": "vncDsAP0Gaoa"
      }
    },
    {
      "cell_type": "markdown",
      "source": [
        "##### **Project Type**    - Exploratory Data Analysis (EDA)\n",
        "\n",
        "##### **Contribution**    - Individual\n",
        "\n",
        "##### **Project Made By** - SAMIR RAHOOD"
      ],
      "metadata": {
        "id": "beRrZCGUAJYm"
      }
    },
    {
      "cell_type": "markdown",
      "source": [
        "# **Project Summary -**"
      ],
      "metadata": {
        "id": "FJNUwmbgGyua"
      }
    },
    {
      "cell_type": "markdown",
      "source": [
        "This project give us the idea about hotel bookings pattern. This hotel booking project can help us explore some of the questions:-\n",
        "\n",
        "\n",
        "*   Have you ever wondered when the best time of year to book a hotel room is?\n",
        "*   The optimal length of stay in order to get the best daily rate? etc.\n",
        "\n",
        "This project contains booking information for a city hotel and a resort hotel, and includes information such as when the booking was made, length of stay, the number of adults, children, and/or babies, and the number of available parking spaces, among other things.\n",
        "\n",
        "**Initial Observations**\n",
        "*  **Data Completeness:**  Columns like agent, company, and children have missing values.\n",
        "* **Date Columns**: Arrival dates are spread across different columns, making it essential to combine these for better time-series analysis.\n",
        "* **Categorical Variables**: Many categorical variables such as hotel, meal, market_segment, and distribution_channel will require encoding for machine learning models.\n",
        "* **Numerical Variables**: Columns like lead_time, adr, and stays_in_weekend_nights will require statistical analysis to understand distributions and identify outliers."
      ],
      "metadata": {
        "id": "F6v_1wHtG2nS"
      }
    },
    {
      "cell_type": "markdown",
      "source": [
        "# **GitHub Link -**"
      ],
      "metadata": {
        "id": "w6K7xa23Elo4"
      }
    },
    {
      "cell_type": "markdown",
      "source": [
        "https://github.com/karahud/karahud/blob/main/Hotel_Booking_EDA_project.ipynb"
      ],
      "metadata": {
        "id": "h1o69JH3Eqqn"
      }
    },
    {
      "cell_type": "markdown",
      "source": [
        "# **Problem Statement**\n"
      ],
      "metadata": {
        "id": "yQaldy8SH6Dl"
      }
    },
    {
      "cell_type": "markdown",
      "source": [
        "**Write Problem Statement Here.**\n",
        "\n",
        "This dataset contains anonymized booking information for a city hotel and a resort hotel. It includes details like booking dates, length of stay, number of guests, parking availability, and more.\n",
        "\n",
        "We can use this data to answer important questions such as:\n",
        "\n",
        "What is the best time of year to book a hotel room for the best rates? Is there an optimal length of stay to get the best daily rate? Are certain hotels more likely to receive a higher number of special requests?\n",
        "\n",
        "Through exploration and analysis, we aim to uncover valuable insights to help hotel owners, managers, and guests make informed decisions.\n",
        "\n",
        "\n",
        "\n"
      ],
      "metadata": {
        "id": "DpeJGUA3kjGy"
      }
    },
    {
      "cell_type": "markdown",
      "source": [
        "#### **Define Your Business Objective?**"
      ],
      "metadata": {
        "id": "PH-0ReGfmX4f"
      }
    },
    {
      "cell_type": "markdown",
      "source": [
        "Objective- Identify the best time of year to book rooms for better rates, determine the optimal length of stay for the best daily rates, and explore the impact of guest demographics and parking availability on bookings.Additionally, investigate hotels with a high number of special requests. Provide actionable insights to help hotel owners and managers optimize pricing strategies, improve guest experience, and enhance overall booking performance."
      ],
      "metadata": {
        "id": "PhDvGCAqmjP1"
      }
    },
    {
      "cell_type": "markdown",
      "source": [
        "# **General Guidelines** : -  "
      ],
      "metadata": {
        "id": "mDgbUHAGgjLW"
      }
    },
    {
      "cell_type": "markdown",
      "source": [
        "1.   Well-structured, formatted, and commented code is required.\n",
        "2.   Exception Handling, Production Grade Code & Deployment Ready Code will be a plus. Those students will be awarded some additional credits.\n",
        "     \n",
        "     The additional credits will have advantages over other students during Star Student selection.\n",
        "       \n",
        "             [ Note: - Deployment Ready Code is defined as, the whole .ipynb notebook should be executable in one go\n",
        "                       without a single error logged. ]\n",
        "\n",
        "3.   Each and every logic should have proper comments.\n",
        "4. You may add as many number of charts you want. Make Sure for each and every chart the following format should be answered.\n",
        "        \n",
        "\n",
        "```\n",
        "# Chart visualization code\n",
        "```\n",
        "            \n",
        "\n",
        "*   Why did you pick the specific chart?\n",
        "*   What is/are the insight(s) found from the chart?\n",
        "* Will the gained insights help creating a positive business impact?\n",
        "Are there any insights that lead to negative growth? Justify with specific reason.\n",
        "\n",
        "5. You have to create at least 20 logical & meaningful charts having important insights.\n",
        "\n",
        "\n",
        "[ Hints : - Do the Vizualization in  a structured way while following \"UBM\" Rule.\n",
        "\n",
        "U - Univariate Analysis,\n",
        "\n",
        "B - Bivariate Analysis (Numerical - Categorical, Numerical - Numerical, Categorical - Categorical)\n",
        "\n",
        "M - Multivariate Analysis\n",
        " ]\n",
        "\n",
        "\n",
        "\n"
      ],
      "metadata": {
        "id": "ZrxVaUj-hHfC"
      }
    },
    {
      "cell_type": "markdown",
      "source": [
        "# ***Let's Begin !***"
      ],
      "metadata": {
        "id": "O_i_v8NEhb9l"
      }
    },
    {
      "cell_type": "markdown",
      "source": [
        "## ***1. Know Your Data***"
      ],
      "metadata": {
        "id": "HhfV-JJviCcP"
      }
    },
    {
      "cell_type": "markdown",
      "source": [
        "### Import Libraries"
      ],
      "metadata": {
        "id": "Y3lxredqlCYt"
      }
    },
    {
      "cell_type": "code",
      "source": [
        "# Import Libraries\n",
        "import pandas as pd\n",
        "import matplotlib.pyplot as plt\n",
        "import numpy as np\n",
        "import seaborn as sns"
      ],
      "metadata": {
        "id": "M8Vqi-pPk-HR"
      },
      "execution_count": null,
      "outputs": []
    },
    {
      "cell_type": "code",
      "source": [
        "import warnings\n",
        "\n",
        "# Suppress all warnings\n",
        "warnings.filterwarnings('ignore')\n"
      ],
      "metadata": {
        "id": "_vAz7XXTDohS"
      },
      "execution_count": null,
      "outputs": []
    },
    {
      "cell_type": "markdown",
      "source": [
        "### Dataset Loading"
      ],
      "metadata": {
        "id": "3RnN4peoiCZX"
      }
    },
    {
      "cell_type": "code",
      "source": [
        "# Load Dataset\n",
        "from google.colab import drive\n",
        "drive.mount('/content/drive')"
      ],
      "metadata": {
        "id": "4CkvbW_SlZ_R"
      },
      "execution_count": null,
      "outputs": []
    },
    {
      "cell_type": "code",
      "source": [
        "df = pd.read_csv(\"/content/drive/MyDrive/Project/Hotel Bookings.csv\")\n",
        "df"
      ],
      "metadata": {
        "collapsed": true,
        "id": "R2yE4Z069GOc"
      },
      "execution_count": null,
      "outputs": []
    },
    {
      "cell_type": "markdown",
      "source": [
        "### Dataset First View"
      ],
      "metadata": {
        "id": "x71ZqKXriCWQ"
      }
    },
    {
      "cell_type": "code",
      "source": [
        "# Dataset First Look\n",
        "df.head()"
      ],
      "metadata": {
        "id": "LWNFOSvLl09H",
        "collapsed": true
      },
      "execution_count": null,
      "outputs": []
    },
    {
      "cell_type": "code",
      "source": [
        "# Checking the bottom rows\n",
        "df.tail()"
      ],
      "metadata": {
        "collapsed": true,
        "id": "UWwc-lsl9a-E"
      },
      "execution_count": null,
      "outputs": []
    },
    {
      "cell_type": "markdown",
      "source": [
        "### Dataset Rows & Columns count"
      ],
      "metadata": {
        "id": "7hBIi_osiCS2"
      }
    },
    {
      "cell_type": "code",
      "source": [
        "# Dataset Rows & Columns count\n",
        "df.shape"
      ],
      "metadata": {
        "id": "Kllu7SJgmLij"
      },
      "execution_count": null,
      "outputs": []
    },
    {
      "cell_type": "code",
      "source": [
        "# Printing number of rows and columns in the dataset\n",
        "print(f'Number of Rows: {len(df.axes[0])}')\n",
        "print(f'Number of Colum: {len(df.axes[1])}')"
      ],
      "metadata": {
        "id": "snKmPB5c-Ht1"
      },
      "execution_count": null,
      "outputs": []
    },
    {
      "cell_type": "markdown",
      "source": [
        "### Dataset Information"
      ],
      "metadata": {
        "id": "JlHwYmJAmNHm"
      }
    },
    {
      "cell_type": "code",
      "source": [
        "# Dataset Info\n",
        "df.info()"
      ],
      "metadata": {
        "id": "e9hRXRi6meOf",
        "collapsed": true
      },
      "execution_count": null,
      "outputs": []
    },
    {
      "cell_type": "code",
      "source": [
        "# Data types of all the columns of a dataset\n",
        "df.dtypes"
      ],
      "metadata": {
        "collapsed": true,
        "id": "qsEhpXv7EtOY"
      },
      "execution_count": null,
      "outputs": []
    },
    {
      "cell_type": "markdown",
      "source": [
        "#### Duplicate Values"
      ],
      "metadata": {
        "id": "35m5QtbWiB9F"
      }
    },
    {
      "cell_type": "code",
      "source": [
        "# Dataset Duplicate Value Count\n",
        "df.duplicated().value_counts()"
      ],
      "metadata": {
        "id": "1sLdpKYkmox0",
        "collapsed": true
      },
      "execution_count": null,
      "outputs": []
    },
    {
      "cell_type": "markdown",
      "source": [
        "#### Missing Values/Null Values"
      ],
      "metadata": {
        "id": "PoPl-ycgm1ru"
      }
    },
    {
      "cell_type": "code",
      "source": [
        "# Missing Values/Null Values Count\n",
        "null_value = df.isnull().sum()\n",
        "null_value"
      ],
      "metadata": {
        "id": "GgHWkxvamxVg",
        "collapsed": true
      },
      "execution_count": null,
      "outputs": []
    },
    {
      "cell_type": "code",
      "source": [
        "# Visualizing the missing values using heatmap\n",
        "sns.heatmap(df.isnull(), cbar= False)"
      ],
      "metadata": {
        "id": "3q5wnI3om9sJ",
        "collapsed": true
      },
      "execution_count": null,
      "outputs": []
    },
    {
      "cell_type": "markdown",
      "source": [
        "### What did you know about your dataset?"
      ],
      "metadata": {
        "id": "H0kj-8xxnORC"
      }
    },
    {
      "cell_type": "markdown",
      "source": [
        "This dataset namely, Hotel Bookings, is a collection of information of hotel bookings, date of arrival, total no. of person, deatils about cancellation, room type,etc. This dataset contains in total 119390 rows and 32 columns. As we can see there are many null values also in the company and agents columns. This dataset aslo contains as many as 31994 duplicate values which we will have to remove from the dataset in order to analyse the data properly."
      ],
      "metadata": {
        "id": "gfoNAAC-nUe_"
      }
    },
    {
      "cell_type": "markdown",
      "source": [
        "## ***2. Understanding Your Variables***"
      ],
      "metadata": {
        "id": "nA9Y7ga8ng1Z"
      }
    },
    {
      "cell_type": "code",
      "source": [
        "# Dataset Columns\n",
        "df.columns"
      ],
      "metadata": {
        "id": "j7xfkqrt5Ag5",
        "collapsed": true
      },
      "execution_count": null,
      "outputs": []
    },
    {
      "cell_type": "code",
      "source": [
        "# Checking numerical columns\n",
        "num_cols = df.select_dtypes(include =['int64','float64'])\n",
        "num_cols.columns"
      ],
      "metadata": {
        "id": "LgKg1gnt5V8h"
      },
      "execution_count": null,
      "outputs": []
    },
    {
      "cell_type": "code",
      "source": [
        "# Checking categorial columns\n",
        "cat_cols = df.select_dtypes(include = ['object'])\n",
        "cat_cols.columns"
      ],
      "metadata": {
        "id": "D7jpqiWq63cj"
      },
      "execution_count": null,
      "outputs": []
    },
    {
      "cell_type": "code",
      "source": [
        "# Dataset Describe\n",
        "df.describe()"
      ],
      "metadata": {
        "id": "DnOaZdaE5Q5t",
        "collapsed": true
      },
      "execution_count": null,
      "outputs": []
    },
    {
      "cell_type": "code",
      "source": [
        "# getting description of object type columns\n",
        "df.describe(include = ['object'])"
      ],
      "metadata": {
        "id": "j80IIjXA8HaE"
      },
      "execution_count": null,
      "outputs": []
    },
    {
      "cell_type": "code",
      "source": [
        "# Assuming 'df' is your DataFrame and already defined elsewhere\n",
        "df1 = ['is_canceled', 'lead_time', 'arrival_date_year',\n",
        "       'arrival_date_week_number', 'arrival_date_day_of_month',\n",
        "       'stays_in_weekend_nights', 'stays_in_week_nights', 'adults', 'children',\n",
        "       'babies', 'is_repeated_guest', 'previous_cancellations',\n",
        "       'previous_bookings_not_canceled', 'booking_changes', 'agent', 'company',\n",
        "       'days_in_waiting_list', 'adr', 'required_car_parking_spaces',\n",
        "       'total_of_special_requests']\n",
        "\n",
        "fig, ax = plt.subplots(10, 2, figsize=(12, 27))\n",
        "ax = ax.flatten()  # Flatten the array to use single index\n",
        "\n",
        "for i, x in enumerate(df1):\n",
        "    sns.histplot(df[x], bins=10, kde=True, color='#99FF66', ax=ax[i])\n",
        "    ax[i].set_title(f\"Distribution of {x}\")\n",
        "\n",
        "plt.tight_layout()\n",
        "plt.show()\n"
      ],
      "metadata": {
        "collapsed": true,
        "id": "hPg0Q7FeAMW-"
      },
      "execution_count": null,
      "outputs": []
    },
    {
      "cell_type": "markdown",
      "source": [
        "### Variables Description"
      ],
      "metadata": {
        "id": "PBTbrJXOngz2"
      }
    },
    {
      "cell_type": "markdown",
      "source": [
        "\n",
        "The columns and the data they represent are listed below:\n",
        "\n",
        "1. hotel : Name of the hotel (Resort Hotel or City Hotel)\n",
        "\n",
        "2. is_canceled : If the booking was canceled (1) or not (0)\n",
        "\n",
        "3. lead_time: Number of days before the actual arrival of the guests\n",
        "\n",
        "4. arrival_date_year : Year of arrival date\n",
        "\n",
        "5. arrival_date_month : Month of month arrival date\n",
        "\n",
        "6. arrival_date_week_number : Week number of year for arrival date\n",
        "\n",
        "7. arrival_date_day_of_month : Day of arrival date\n",
        "\n",
        "8. stays_in_weekend_nights : Number of weekend nights (Saturday or Sunday)\n",
        "spent at the hotel by the guests.\n",
        "\n",
        "9. stays_in_week_nights : Number of weeknights (Monday to Friday) spent at the hotel by the guests.\n",
        "\n",
        "10. adults : Number of adults among guests\n",
        "\n",
        "11. children : Number of children among guests\n",
        "\n",
        "12. babies : Number of babies among guests\n",
        "\n",
        "13. meal : Type of meal booked\n",
        "\n",
        "14. country : Country of guests\n",
        "\n",
        "15. market_segment : Designation of market segment\n",
        "\n",
        "16. distribution_channel : Name of booking distribution channel\n",
        "\n",
        "17. is_repeated_guest : If the booking was from a repeated guest (1) or not (0)\n",
        "\n",
        "18. previous_cancellations : Number of previous bookings that were cancelled by the customer prior to the current booking\n",
        "\n",
        "19. previous_bookings_not_canceled : Number of previous bookings not cancelled by the customer prior to the current booking\n",
        "\n",
        "20. reserved_room_type : Code of room type reserved\n",
        "\n",
        "21. assigned_room_type : Code of room type assigned\n",
        "\n",
        "22. booking_changes : Number of changes/amendments made to the booking\n",
        "\n",
        "23. deposit_type : Type of the deposit made by the guest\n",
        "\n",
        "24. agent : ID of travel agent who made the booking\n",
        "\n",
        "25. company : ID of the company that made the booking\n",
        "\n",
        "26. days_in_waiting_list : Number of days the booking was in the waiting list\n",
        "\n",
        "27. customer_type : Type of customer, assuming one of four categories\n",
        "\n",
        "28. adr : Average Daily Rate, as defined by dividing the sum of all lodging transactions by the total number of staying nights\n",
        "\n",
        "29. required_car_parking_spaces : Number of car parking spaces required by the customer\n",
        "\n",
        "30. total_of_special_requests : Number of special requests made by the customer\n",
        "\n",
        "31. reservation_status : Reservation status (Canceled, Check-Out or No-Show)\n",
        "\n",
        "32. reservation_status_date : Date at which the last reservation status was updated\n",
        "\n"
      ],
      "metadata": {
        "id": "aJV4KIxSnxay"
      }
    },
    {
      "cell_type": "markdown",
      "source": [
        "### Check Unique Values for each variable."
      ],
      "metadata": {
        "id": "u3PMJOP6ngxN"
      }
    },
    {
      "cell_type": "code",
      "source": [
        "# Check Unique Values for each variable.\n",
        "for col in df.describe(include='object').columns:\n",
        "    print(col)\n",
        "    print(df[col].unique())\n",
        "    print('-'*50)"
      ],
      "metadata": {
        "id": "Ww85J9KpNxyE"
      },
      "execution_count": null,
      "outputs": []
    },
    {
      "cell_type": "markdown",
      "source": [
        "## 3. ***Data Wrangling***"
      ],
      "metadata": {
        "id": "dauF4eBmngu3"
      }
    },
    {
      "cell_type": "markdown",
      "source": [
        "### Data Wrangling Code"
      ],
      "metadata": {
        "id": "bKJF3rekwFvQ"
      }
    },
    {
      "cell_type": "code",
      "source": [
        "# Write your code to make your dataset analysis ready.\n",
        "#Let's delete all the duplicate values in the dataset first\n",
        "df = df.drop_duplicates()\n",
        "df"
      ],
      "metadata": {
        "id": "wk-9a2fpoLcV",
        "collapsed": true
      },
      "execution_count": null,
      "outputs": []
    },
    {
      "cell_type": "code",
      "source": [
        "# Now Check the duplicates values\n",
        "df.duplicated().value_counts()"
      ],
      "metadata": {
        "id": "7ydJQtRPjIMC"
      },
      "execution_count": null,
      "outputs": []
    },
    {
      "cell_type": "code",
      "source": [
        "# In this datset agent and compony columns have too much null values and are insignificant for our analysis so lets drop both the columns\n",
        "df.drop([\"agent\",\"company\"],axis=1,inplace= True)\n",
        "df"
      ],
      "metadata": {
        "id": "y3yZiEa2lYTk",
        "collapsed": true
      },
      "execution_count": null,
      "outputs": []
    },
    {
      "cell_type": "code",
      "source": [
        "df.columns"
      ],
      "metadata": {
        "id": "FxIdApU1IJVr"
      },
      "execution_count": null,
      "outputs": []
    },
    {
      "cell_type": "code",
      "source": [
        "#Creating a skewed histogram to check for details for \"Children\" column\n",
        "sns.histplot(data=df,x ='children',kde=True)"
      ],
      "metadata": {
        "id": "_n8MRuS3_hoS"
      },
      "execution_count": null,
      "outputs": []
    },
    {
      "cell_type": "code",
      "source": [
        "# Calculate the median number of children in the dataset\n",
        "children_median = df[\"children\"].median()\n",
        "children_median"
      ],
      "metadata": {
        "id": "ItOcQNuV-JXA"
      },
      "execution_count": null,
      "outputs": []
    },
    {
      "cell_type": "code",
      "source": [
        "# Let's take and check the columns \"Children \" for null value and try to handle it\n",
        "df[\"children\"].isnull().sum()"
      ],
      "metadata": {
        "id": "NEpXmBNgjPet"
      },
      "execution_count": null,
      "outputs": []
    },
    {
      "cell_type": "code",
      "source": [
        "# fill all the null values with the previous value in column\n",
        "df[\"children\"].fillna(value = children_median , inplace = True)"
      ],
      "metadata": {
        "id": "q7_h46U4jRfV"
      },
      "execution_count": null,
      "outputs": []
    },
    {
      "cell_type": "code",
      "source": [
        "# Create a histogram to check the distribution of the 'country' column\n",
        "sns.histplot(data=df,x ='country',kde=True)"
      ],
      "metadata": {
        "id": "jLeXpgFqAGr0"
      },
      "execution_count": null,
      "outputs": []
    },
    {
      "cell_type": "code",
      "source": [
        "# Let's take and check the columns 'country' for null value and try to handle it\n",
        "df['country'].isnull().sum()"
      ],
      "metadata": {
        "id": "shy_16SWJ1KH"
      },
      "execution_count": null,
      "outputs": []
    },
    {
      "cell_type": "code",
      "source": [
        "# Now let's work with the missing data in country column\n",
        "df['country'].fillna(method = \"ffill\", inplace = True)"
      ],
      "metadata": {
        "id": "prjC4mywjT45"
      },
      "execution_count": null,
      "outputs": []
    },
    {
      "cell_type": "code",
      "source": [
        "df.isnull().sum()"
      ],
      "metadata": {
        "collapsed": true,
        "id": "0KxZWaRZvtdW"
      },
      "execution_count": null,
      "outputs": []
    },
    {
      "cell_type": "code",
      "source": [
        "# Adding total staying days in hotels\n",
        "df['total_stay'] = df['stays_in_weekend_nights']+df['stays_in_week_nights']\n",
        "\n",
        "# Adding total people num as column, i.e. total people num = num of adults + children + babies\n",
        "df['total_people'] = df['adults']+df['children']+df['babies']\n",
        "df.head(2)"
      ],
      "metadata": {
        "id": "1aatWWSbqh0n"
      },
      "execution_count": null,
      "outputs": []
    },
    {
      "cell_type": "markdown",
      "source": [
        "### What all manipulations have you done and insights you found?"
      ],
      "metadata": {
        "id": "MSa1f5Uengrz"
      }
    },
    {
      "cell_type": "markdown",
      "source": [
        "In this section I have done some manipulations on the dataset which are as follows:-\n",
        "\n",
        "\n",
        "*   first of all dropped all the duplicates which are originally present in the dataset. Which bring down the no. of duplicates to 0 from 31994.\n",
        "*   In this datset agent and compony columns have too much null values and are insignificant for our analysis so dropped both the columns.\n",
        "*   Handled null values in the columns of \"children\" and \"country\" using different method.\n",
        "*  \"children\" column is filled using median method.\n",
        "*  \"country\" column is filled with the help of mode data.\n",
        "*   Doing some manipulation and created two variables - total_stay and total_people\n",
        "\n",
        "Now using this data let's visualise data.\n",
        "\n",
        "\n",
        "\n"
      ],
      "metadata": {
        "id": "LbyXE7I1olp8"
      }
    },
    {
      "cell_type": "markdown",
      "source": [
        "## ***4. Data Vizualization, Storytelling & Experimenting with charts : Understand the relationships between variables***"
      ],
      "metadata": {
        "id": "GF8Ens_Soomf"
      }
    },
    {
      "cell_type": "markdown",
      "source": [
        "#### Chart - 1"
      ],
      "metadata": {
        "id": "0wOQAZs5pc--"
      }
    },
    {
      "cell_type": "code",
      "source": [
        "# Chart - 1 visualization code\n",
        "# Calculate the number of reservations for each hotel type\n",
        "hotel_preferred = df[\"hotel\"].value_counts()\n",
        "\n",
        "# Define colors for the bars in the bar plot\n",
        "colors = ['#FF9999', '#FFFF66']\n",
        "\n",
        "# Create a new figure for the plot with specified size\n",
        "plt.figure(figsize=(8, 6))\n",
        "\n",
        "# Set labels and title for the plot\n",
        "plt.xlabel(\"Hotel Types\")\n",
        "plt.ylabel(\"Number of Reservations\")\n",
        "plt.title(\"Preferred Hotel Type for Reservations\")\n",
        "\n",
        "# Create a bar plot\n",
        "plt.bar([\"City Hotel\", \"Resort Hotel\"], hotel_preferred, color=colors)\n",
        "\n",
        "# Display the plot\n",
        "plt.show()\n"
      ],
      "metadata": {
        "id": "jemXvw41jtI2"
      },
      "execution_count": null,
      "outputs": []
    },
    {
      "cell_type": "markdown",
      "source": [
        "##### 1. Why did you pick the specific chart?"
      ],
      "metadata": {
        "id": "K5QZ13OEpz2H"
      }
    },
    {
      "cell_type": "markdown",
      "source": [
        "Barplot helps to visualize the comparison between two components easily. A bar chart balances simplicity and clarity, making it an ideal choice for presenting the distribution of reservations between the two types of hotels."
      ],
      "metadata": {
        "id": "XESiWehPqBRc"
      }
    },
    {
      "cell_type": "markdown",
      "source": [
        "##### 2. What is/are the insight(s) found from the chart?"
      ],
      "metadata": {
        "id": "lQ7QKXXCp7Bj"
      }
    },
    {
      "cell_type": "markdown",
      "source": [
        "In this barplot we have compared reservation status of city hotel and resort hotel. It is clearly visible that city hotels have more reservations than resort hotels. City hotels are preferd by more than 50000 customers."
      ],
      "metadata": {
        "id": "C_j1G7yiqdRP"
      }
    },
    {
      "cell_type": "markdown",
      "source": [
        "##### 3. Will the gained insights help creating a positive business impact?\n",
        "Are there any insights that lead to negative growth? Justify with specific reason."
      ],
      "metadata": {
        "id": "448CDAPjqfQr"
      }
    },
    {
      "cell_type": "markdown",
      "source": [
        "Nothing negative insights can be drawn through this chart. Resort hotels were less prefered over city hotels so business management should announce some discounts and offers to attract more customers to the Resort hotels."
      ],
      "metadata": {
        "id": "3cspy4FjqxJW"
      }
    },
    {
      "cell_type": "markdown",
      "source": [
        "#### Chart - 2"
      ],
      "metadata": {
        "id": "KSlN3yHqYklG"
      }
    },
    {
      "cell_type": "code",
      "source": [
        "# Chart - 2 visualization code\n",
        "# Assuming df is your DataFrame\n",
        "grouped_by_hotel = df.groupby('hotel')\n",
        "hotels = grouped_by_hotel.size().reset_index(name='Booking Count')\n",
        "\n",
        "# Prepare data for the pie chart\n",
        "sizes = hotels['Booking Count']\n",
        "labels = hotels['hotel']\n",
        "colors = ['#FF6347', '#4682B4']\n",
        "explode = (0.1, 0)\n",
        "\n",
        "# Plotting a pie chart\n",
        "plt.figure(figsize=(8,7))\n",
        "plt.title(\"Hotel Booking Counts\")\n",
        "plt.pie(sizes, labels=labels, colors=colors, startangle=35, autopct=\"%.2f%%\", explode= explode, hatch=['**O', '.||.'], pctdistance=1.25, labeldistance=1, shadow=True)\n",
        "\n",
        "#Display The plot\n",
        "plt.show()"
      ],
      "metadata": {
        "id": "jB38kgp5KVgs"
      },
      "execution_count": null,
      "outputs": []
    },
    {
      "cell_type": "markdown",
      "source": [
        "##### 1. Why did you pick the specific chart?"
      ],
      "metadata": {
        "id": "t6dVpIINYklI"
      }
    },
    {
      "cell_type": "markdown",
      "source": [
        "A pie chart is chosen because it effectively shows the proportion of bookings between different hotels. Pie charts are ideal for displaying parts of a whole, allowing viewers to quickly grasp the relative sizes of categories. In this context, it helps illustrate the distribution of hotel bookings, making it easy to see which hotel has the majority or minority of the bookings."
      ],
      "metadata": {
        "id": "meDZDPtDzmwh"
      }
    },
    {
      "cell_type": "markdown",
      "source": [
        "##### 2. What is/are the insight(s) found from the chart?"
      ],
      "metadata": {
        "id": "ijmpgYnKYklI"
      }
    },
    {
      "cell_type": "markdown",
      "source": [
        "This pie chart reveals the booking distribution between city and resort hotels, highlighting which hotel type is more popular. 61% of customers book City Hotel while remaining 39% book Resort Hotels."
      ],
      "metadata": {
        "id": "PSx9atu2YklI"
      }
    },
    {
      "cell_type": "markdown",
      "source": [
        "##### 3. Will the gained insights help creating a positive business impact?\n",
        "Are there any insights that lead to negative growth? Justify with specific reason."
      ],
      "metadata": {
        "id": "-JiQyfWJYklI"
      }
    },
    {
      "cell_type": "markdown",
      "source": [
        "The insights from the pie chart can indeed lead to a positive business impact by informing targeted strategies and resource allocation. Resort hotels were less prefered over city hotels so business management should announce some discounts and offers to attract more customers to the Resort hotels."
      ],
      "metadata": {
        "id": "BcBbebzrYklV"
      }
    },
    {
      "cell_type": "markdown",
      "source": [
        "#### Chart - 3"
      ],
      "metadata": {
        "id": "EM7whBJCYoAo"
      }
    },
    {
      "cell_type": "code",
      "source": [
        "# Chart -3 visualization code\n",
        "# Filter the DataFrame to include only entries where 'is_canceled' is 0 (not canceled bookings)\n",
        "not_canceled = df[df['is_canceled'] == 0]\n",
        "s1 = not_canceled[not_canceled['total_stay'] <= 15]\n",
        "\n",
        "# Set up the figure for plotting with specified size\n",
        "plt.figure(figsize=(10, 5))\n",
        "\n",
        "# Create a count plot using Seaborn\n",
        "sns.countplot(x=s1['total_stay'], hue=s1['hotel'])\n",
        "\n",
        "# Display the plot\n",
        "plt.show()\n"
      ],
      "metadata": {
        "id": "H1KNWGZMMhTd"
      },
      "execution_count": null,
      "outputs": []
    },
    {
      "cell_type": "markdown",
      "source": [
        "##### 1. Why did you pick the specific chart?"
      ],
      "metadata": {
        "id": "fge-S5ZAYoAp"
      }
    },
    {
      "cell_type": "markdown",
      "source": [
        "A count plot is effective for comparing the distribution of total stay durations across different hotel types (City Hotel and Resort Hotel). It shows how frequently each stay duration occurs for both hotel types."
      ],
      "metadata": {
        "id": "5dBItgRVYoAp"
      }
    },
    {
      "cell_type": "markdown",
      "source": [
        "##### 2. What is/are the insight(s) found from the chart?"
      ],
      "metadata": {
        "id": "85gYPyotYoAp"
      }
    },
    {
      "cell_type": "markdown",
      "source": [
        "This chart reveals trends in booking behavior. We can say that most of the people tends to stay for upto 4 days in City hotel while on the other hand for resort hotel trends shows some anamoly like people prefer staying for upto 3 days or for 7 days."
      ],
      "metadata": {
        "id": "4jstXR6OYoAp"
      }
    },
    {
      "cell_type": "markdown",
      "source": [
        "##### 3. Will the gained insights help creating a positive business impact?\n",
        "Are there any insights that lead to negative growth? Justify with specific reason."
      ],
      "metadata": {
        "id": "RoGjAbkUYoAp"
      }
    },
    {
      "cell_type": "markdown",
      "source": [
        "The insights from the data analysis will primarily lead to positive business impacts by informing strategic decisions around marketing, pricing, and service improvements. However, recognizing and addressing any negative patterns, such as an over-reliance on short stays or underperformance of certain hotels, is also essential for balanced growth. This holistic approach ensures that the business can capitalize on its strengths while mitigating weaknesses"
      ],
      "metadata": {
        "id": "zfJ8IqMcYoAp"
      }
    },
    {
      "cell_type": "markdown",
      "source": [
        "#### Chart - 4"
      ],
      "metadata": {
        "id": "4Of9eVA-YrdM"
      }
    },
    {
      "cell_type": "code",
      "source": [
        "# Chart -4 visualization code\n",
        "\n",
        "# Setting up the figure size for the plot\n",
        "plt.figure(figsize=(18, 5))\n",
        "\n",
        "# Creating the first subplot\n",
        "plt.subplot(1, 2, 1)\n",
        "sns.countplot(x='stays_in_weekend_nights', hue='hotel', data=df[df['stays_in_weekend_nights'] <= 7], palette='cool')\n",
        "plt.title(\"Number of stays on weekend nights\", fontweight=\"bold\", size=20)\n",
        "plt.xlabel(\"Stays in Weekend Nights\")\n",
        "plt.ylabel(\"Count\")\n",
        "\n",
        "# Creating the second subplot\n",
        "plt.subplot(1, 2, 2)\n",
        "sns.countplot(x='stays_in_week_nights', hue='hotel', data=df[df['stays_in_week_nights'] <= 10], palette='rainbow_r')\n",
        "plt.title(\"Number of stays on weekday nights\", fontweight=\"bold\", size=20)\n",
        "plt.xlabel(\"Stays in Week Nights\")\n",
        "plt.ylabel(\"Count\")\n",
        "\n",
        "# Displaying the plot\n",
        "plt.tight_layout()\n",
        "plt.show()"
      ],
      "metadata": {
        "id": "shVxUymfi_w9"
      },
      "execution_count": null,
      "outputs": []
    },
    {
      "cell_type": "markdown",
      "source": [
        "##### 1. Why did you pick the specific chart?"
      ],
      "metadata": {
        "id": "iky9q4vBYrdO"
      }
    },
    {
      "cell_type": "markdown",
      "source": [
        "I have used bar chart here to analyse and copmare the number of stays on weekend nights and week nights as well as used hue \"hotel\" just to compare those stays in both the hotels types. The specific choices of limiting the x-axis to 7 nights for weekend stays and 10 nights for weekday stays were made to optimize the clarity, focus, and usability of the visualizations."
      ],
      "metadata": {
        "id": "aJRCwT6DYrdO"
      }
    },
    {
      "cell_type": "markdown",
      "source": [
        "##### 2. What is/are the insight(s) found from the chart?"
      ],
      "metadata": {
        "id": "F6T5p64dYrdO"
      }
    },
    {
      "cell_type": "markdown",
      "source": [
        "* Chart of Number of stays on weekend nights:-  In this chart we can see that there is decreasing pattern for city hotel while no such pattern is observed in resort type hotel.\n",
        "* Chart of Number of stays on week nights:- Number od stays are more in city hotel copmared to resort hotel."
      ],
      "metadata": {
        "id": "Xx8WAJvtYrdO"
      }
    },
    {
      "cell_type": "markdown",
      "source": [
        "##### 3. Will the gained insights help creating a positive business impact?\n",
        "Are there any insights that lead to negative growth? Justify with specific reason."
      ],
      "metadata": {
        "id": "y-Ehk30pYrdP"
      }
    },
    {
      "cell_type": "markdown",
      "source": [
        "The insights gained from analyzing stays on weekend nights and weekday nights can help create a positive business impact by optimizing occupancy, revenue management, and guest services. However, identifying and addressing negative growth factors such as seasonal variations and competitive pressures will be crucial. By leveraging these insights effectively, hotels can enhance their competitive position, improve guest satisfaction, and drive sustainable growth in the hospitality industry."
      ],
      "metadata": {
        "id": "jLNxxz7MYrdP"
      }
    },
    {
      "cell_type": "markdown",
      "source": [
        "#### Chart - 5"
      ],
      "metadata": {
        "id": "bamQiAODYuh1"
      }
    },
    {
      "cell_type": "code",
      "source": [
        "# Chart - 5 visualization code\n",
        "# Calculate the number of bookings for each market segment and display the top 5\n",
        "market_segment = df['market_segment'].value_counts().head()\n",
        "print(market_segment)\n",
        "\n",
        "# Define colors for each market segment\n",
        "colors = ['#FF6347', '#4682B4', '#7FFF00', '#FFD700', '#87CEEB']\n",
        "\n",
        "# Create a horizontal bar plot\n",
        "plt.figure(figsize=(4, 3))\n",
        "sns.barplot(x=market_segment.values,\n",
        "            y=market_segment.index,\n",
        "            palette= colors)\n",
        "\n",
        "plt.xlabel(\"No of Bookings\")\n",
        "plt.ylabel(\"Booked through\")\n",
        "plt.title(\"Mode of Booking\")\n",
        "\n",
        "# Display the plot\n",
        "plt.show()\n"
      ],
      "metadata": {
        "id": "TIJwrbroYuh3"
      },
      "execution_count": null,
      "outputs": []
    },
    {
      "cell_type": "markdown",
      "source": [
        "##### 1. Why did you pick the specific chart?"
      ],
      "metadata": {
        "id": "QHF8YVU7Yuh3"
      }
    },
    {
      "cell_type": "markdown",
      "source": [
        "A horizontal bar chart makes it easier to read the labels on the y-axis, especially if the category names are long or if the viewer needs to quickly understand the different categories."
      ],
      "metadata": {
        "id": "dcxuIMRPYuh3"
      }
    },
    {
      "cell_type": "markdown",
      "source": [
        "##### 2. What is/are the insight(s) found from the chart?"
      ],
      "metadata": {
        "id": "GwzvFGzlYuh3"
      }
    },
    {
      "cell_type": "markdown",
      "source": [
        "This chart provides a clear visual representation of how customers prefer to book their accommodations. It is clear that most of the bookings were done through Online Travel Agents and 2nd best option to book hotel was Offline TA/TO."
      ],
      "metadata": {
        "id": "uyqkiB8YYuh3"
      }
    },
    {
      "cell_type": "markdown",
      "source": [
        "##### 3. Will the gained insights help creating a positive business impact?\n",
        "Are there any insights that lead to negative growth? Justify with specific reason."
      ],
      "metadata": {
        "id": "qYpmQ266Yuh3"
      }
    },
    {
      "cell_type": "markdown",
      "source": [
        " There is a huge difference between bookings through Online and Offline TA. So credibility of offline travel agents should increase by various means like cheap and best tour packages, best hotels, incrased in persaon contact with customer, etc."
      ],
      "metadata": {
        "id": "_WtzZ_hCYuh4"
      }
    },
    {
      "cell_type": "markdown",
      "source": [
        "#### Chart - 6"
      ],
      "metadata": {
        "id": "OH-pJp9IphqM"
      }
    },
    {
      "cell_type": "code",
      "source": [
        "# Chart - 6 visualization code\n",
        "# Define the order of months to ensure correct x-axis labeling\n",
        "month_order = [\"January\", \"February\", \"March\", \"April\", \"May\", \"June\",\n",
        "               \"July\", \"August\", \"September\", \"October\", \"November\", \"December\"]\n",
        "\n",
        "# Count the number of bookings per month and reorder them according to month_order\n",
        "best_time_to_visit = df[\"arrival_date_month\"].value_counts().reindex(month_order)\n",
        "# print(best_time_to_visit)\n",
        "\n",
        "# Set up the plot figure with specific size and background color\n",
        "plt.figure(figsize=(12, 6), facecolor=\"#FFFF99\")\n",
        "\n",
        "# Plot the number of bookings per month using a line plot\n",
        "plt.plot(best_time_to_visit, marker='*', ms=15, color=\"#FF6347\", mfc=\"y\")\n",
        "plt.xlabel(\"Month\")\n",
        "plt.ylabel(\"No of Bookings\")\n",
        "plt.title(\"Best Time To Visit\")\n",
        "\n",
        "# Displaying the plot\n",
        "plt.show()\n"
      ],
      "metadata": {
        "id": "kuRf4wtuphqN"
      },
      "execution_count": null,
      "outputs": []
    },
    {
      "cell_type": "markdown",
      "source": [
        "##### 1. Why did you pick the specific chart?"
      ],
      "metadata": {
        "id": "bbFf2-_FphqN"
      }
    },
    {
      "cell_type": "markdown",
      "source": [
        "The line chart is an effective tool for visualizing and analyzing booking trends over the months of year, providing valuable insights into the best times to visit based on booking patterns."
      ],
      "metadata": {
        "id": "loh7H2nzphqN"
      }
    },
    {
      "cell_type": "markdown",
      "source": [
        "##### 2. What is/are the insight(s) found from the chart?"
      ],
      "metadata": {
        "id": "_ouA3fa0phqN"
      }
    },
    {
      "cell_type": "markdown",
      "source": [
        "The chart provides a clear view of how booking volumes vary throughout the year, helping to identify the best times to visit based on personal preferences or business goals. We can say that June to July is the peak season and Nov to Jan is the off-season. Again then we can see the incremental trend from Jan to June."
      ],
      "metadata": {
        "id": "VECbqPI7phqN"
      }
    },
    {
      "cell_type": "markdown",
      "source": [
        "##### 3. Will the gained insights help creating a positive business impact?\n",
        "Are there any insights that lead to negative growth? Justify with specific reason."
      ],
      "metadata": {
        "id": "Seke61FWphqN"
      }
    },
    {
      "cell_type": "markdown",
      "source": [
        "This booking pattern infer that there is a seasonal dependance which indicates vulnerability. Also in the peak season there might be the chances of overcrowding and service qulaity issues.\n",
        "\n",
        "  To mitigate this issues business can:\n",
        "  * Develop targeted marketing strategies to attract customers during off-peak times.\n",
        "  * Diversify offerings to reduce dependence on peak seasons.\n",
        "  * Plan resource allocation and operational management to handle fluctuations efficiently."
      ],
      "metadata": {
        "id": "DW4_bGpfphqN"
      }
    },
    {
      "cell_type": "markdown",
      "source": [
        "#### Chart - 7"
      ],
      "metadata": {
        "id": "PIIx-8_IphqN"
      }
    },
    {
      "cell_type": "code",
      "source": [
        "# Chart - 7 visualization code\n",
        "# Define bins and labels for day groups\n",
        "bins_day = [0, 5, 10, 15, 20, 25, 30, 31]\n",
        "labels_day = ['1-5', '6-10', '11-15', '16-20', '21-25', '26-30', '31']\n",
        "\n",
        "# Use cut to categorize the days\n",
        "df['Group_Day'] = pd.cut(df['arrival_date_day_of_month'], bins=bins_day, labels=labels_day, right=True, include_lowest=True)\n",
        "\n",
        "# Group by the new category and sum the values, or perform other aggregation\n",
        "grouped_data_day = df.groupby('Group_Day')['arrival_date_day_of_month'].sum().reset_index()\n",
        "\n",
        "# Define bins and labels for week groups\n",
        "bins_week = [0, 7, 14, 21, 28, 31]\n",
        "labels_week = ['Week 1', 'Week 2', 'Week 3', 'Week 4', 'Week 5']\n",
        "\n",
        "# Use cut to categorize the days into weeks\n",
        "df['Group_Week'] = pd.cut(df['arrival_date_day_of_month'], bins=bins_week, labels=labels_week, right=True, include_lowest=True)\n",
        "\n",
        "# Group by the new category and sum the values, or perform other aggregation\n",
        "grouped_data_week = df.groupby('Group_Week')['arrival_date_day_of_month'].sum().reset_index()\n",
        "\n",
        "# Plotting\n",
        "fig, axs = plt.subplots(1, 2, figsize=(10, 5))\n",
        "\n",
        "# Plot for day groups\n",
        "axs[0].plot(grouped_data_day['Group_Day'], grouped_data_day['arrival_date_day_of_month'], marker='o')\n",
        "axs[0].set_title('Values by Day Groups')\n",
        "axs[0].set_xlabel('Day Groups')\n",
        "axs[0].set_ylabel('Sum of Values')\n",
        "axs[0].grid(True)\n",
        "\n",
        "# Plot for week groups\n",
        "axs[1].plot(grouped_data_week['Group_Week'], grouped_data_week['arrival_date_day_of_month'], marker='o')\n",
        "axs[1].set_title('Values by Week Groups')\n",
        "axs[1].set_xlabel('Weeks')\n",
        "axs[1].set_ylabel('Sum of Values')\n",
        "axs[1].grid(True)\n",
        "\n",
        "plt.tight_layout()\n",
        "plt.show()\n"
      ],
      "metadata": {
        "id": "JRxdxd9CIh6G"
      },
      "execution_count": null,
      "outputs": []
    },
    {
      "cell_type": "code",
      "source": [
        "# Chart - 7 visualization code\n",
        "# Define bins and labels\n",
        "plt.subplot(1,2,1)\n",
        "bins = [0, 5, 10, 15, 20, 25, 30, 31]\n",
        "labels = ['1-5', '6-10', '11-15', '16-20', '21-25', '26-30', '31']\n",
        "\n",
        "# Use cut to categorize the days\n",
        "df['Group'] = pd.cut(df['arrival_date_day_of_month'], bins=bins, labels=labels, right=True, include_lowest=True)\n",
        "\n",
        "\n",
        "# Group by the new category and sum the values, or perform other aggregation\n",
        "grouped_data = df.groupby('Group')['arrival_date_day_of_month'].sum().reset_index()\n",
        "\n",
        "plt.figure(figsize=(6,4))\n",
        "plt.plot(grouped_data['Group'], grouped_data['arrival_date_day_of_month'], marker='o')\n",
        "plt.title('Values by Day Groups')\n",
        "plt.xlabel('Day Groups')\n",
        "plt.ylabel('Sum of Values')\n",
        "plt.grid(True)\n",
        "plt.show()\n",
        "\n",
        "plt.subplot(2,1,1)\n",
        "bins = [ 0, 7, 14, 21, 28, 31]\n",
        "labels = ['Week - 1', 'Week - 2', 'Week - 3', 'Week - 4', 'Week - 5']\n",
        "\n",
        "# Use cut to categorize the days\n",
        "df['Group'] = pd.cut(df['arrival_date_day_of_month'], bins=bins, labels=labels, right=True, include_lowest=True)\n",
        "\n",
        "\n",
        "# Group by the new category and sum the values, or perform other aggregation\n",
        "grouped_data = df.groupby('Group')['arrival_date_day_of_month'].sum().reset_index()\n",
        "\n",
        "plt.figure(figsize=(6,4))\n",
        "plt.plot(grouped_data['Group'], grouped_data['arrival_date_day_of_month'], marker='o')\n",
        "plt.title('Values by Week Groups')\n",
        "plt.xlabel('Weeks')\n",
        "plt.ylabel('Sum of Values')\n",
        "plt.grid(True)\n",
        "plt.show()"
      ],
      "metadata": {
        "id": "1F8KsX3-OlzZ"
      },
      "execution_count": null,
      "outputs": []
    },
    {
      "cell_type": "markdown",
      "source": [
        "##### 1. Why did you pick the specific chart?"
      ],
      "metadata": {
        "id": "t27r6nlMphqO"
      }
    },
    {
      "cell_type": "markdown",
      "source": [
        "The line chart is an effective tool for visualizing and analyzing booking trends over the day/dates of the month, providing valuable insights into the best times to visit based on booking patterns. For the ease to visualize I have created a group of 5 days each as well as conerted whole month into certain weeks."
      ],
      "metadata": {
        "id": "iv6ro40sphqO"
      }
    },
    {
      "cell_type": "markdown",
      "source": [
        "##### 2. What is/are the insight(s) found from the chart?"
      ],
      "metadata": {
        "id": "r2jJGEOYphqO"
      }
    },
    {
      "cell_type": "markdown",
      "source": [
        "We can see that there is a gradual increase in the visits count over the dates and reached to the peak during the 20th to 30 th of the month. Or week can say that people tends to visit the place in the 4th Week of the month."
      ],
      "metadata": {
        "id": "Po6ZPi4hphqO"
      }
    },
    {
      "cell_type": "markdown",
      "source": [
        "##### 3. Will the gained insights help creating a positive business impact?\n",
        "Are there any insights that lead to negative growth? Justify with specific reason."
      ],
      "metadata": {
        "id": "b0JNsNcRphqO"
      }
    },
    {
      "cell_type": "markdown",
      "source": [
        "As we see that the tourist tend to visit during the last week or phase of month it can cause congestion, overcrwoding issues locally. To over come thi situation the local mangement shoul ready to tackle thi problem also business can mitigate this issue through providing some discounts and offers for tourists who will come during the other time of the months."
      ],
      "metadata": {
        "id": "xvSq8iUTphqO"
      }
    },
    {
      "cell_type": "markdown",
      "source": [
        "#### Chart - 8"
      ],
      "metadata": {
        "id": "BZR9WyysphqO"
      }
    },
    {
      "cell_type": "code",
      "source": [
        "# Chart - 8 visualization code\n",
        "\n",
        "# Calculate the number of bookings (counts) for each year\n",
        "yearwise_bookings = df[\"arrival_date_year\"].value_counts()\n",
        "print(yearwise_bookings)\n",
        "\n",
        "# Define colors for the bars in the bar plot\n",
        "colors = [\"#4662EE\", \"#50F3EB\", \"#4BE895\"]\n",
        "\n",
        "# Set up the figure size and background color for the plot\n",
        "plt.figure(figsize=(5, 3), facecolor=\"#F67484\")\n",
        "\n",
        "# Set labels for x-axis and y-axis\n",
        "plt.xlabel(\"Years\")\n",
        "plt.ylabel(\"Counts\")\n",
        "\n",
        "# Set title for the plot\n",
        "plt.title(\"Yearly Comparison\")\n",
        "\n",
        "# Create a bar plot to compare the number of bookings across different years\n",
        "plt.bar(\n",
        "    [\"2016\", \"2017\", \"2015\"],\n",
        "    df[\"arrival_date_year\"].value_counts(),\n",
        "    color=colors\n",
        ")\n",
        "\n",
        "# Display the plot\n",
        "plt.show()\n"
      ],
      "metadata": {
        "id": "c7wpGqPHpqVP"
      },
      "execution_count": null,
      "outputs": []
    },
    {
      "cell_type": "code",
      "source": [
        "# Calculate the number of bookings for each year\n",
        "yearwise_bookings = df[\"arrival_date_year\"].value_counts()\n",
        "print(yearwise_bookings)\n",
        "\n",
        "# Define colors for the bar chart\n",
        "colors = [\"#4662EE\", \"#50F3EB\", \"#4BE895\"]\n",
        "\n",
        "# Set up the figure size for the plot\n",
        "plt.figure(figsize=(5, 3))\n",
        "\n",
        "plt.xlabel(\"Years\")\n",
        "plt.ylabel(\"Counts\")\n",
        "plt.title(\"Yearly Comparison\")\n",
        "\n",
        "# Create a count plot using Seaborn\n",
        "sns.countplot(x=\"arrival_date_year\",hue='hotel', data=df, palette='husl')\n",
        "\n",
        "# Show the plot\n",
        "plt.show()"
      ],
      "metadata": {
        "id": "zohc7HhptJY0"
      },
      "execution_count": null,
      "outputs": []
    },
    {
      "cell_type": "markdown",
      "source": [
        "##### 1. Why did you pick the specific chart?"
      ],
      "metadata": {
        "id": "jj7wYXLtphqO"
      }
    },
    {
      "cell_type": "markdown",
      "source": [
        "Using both a bar chart and a count plot together provides a comprehensive view of the data:\n",
        "\n",
        "* The bar chart gives a high-level overview of the total number of bookings per year.\n",
        "* The count plot breaks this down further to show how these bookings are distributed across different hotel types for each year."
      ],
      "metadata": {
        "id": "Ob8u6rCTphqO"
      }
    },
    {
      "cell_type": "markdown",
      "source": [
        "##### 2. What is/are the insight(s) found from the chart?"
      ],
      "metadata": {
        "id": "eZrbJ2SmphqO"
      }
    },
    {
      "cell_type": "markdown",
      "source": [
        "* The bar chart shows the number of bookings for each year (2015, 2016, and 2017).\n",
        "2016 has the highest number of bookings, followed by 2017, and then 2015. This indicates a significant increase in bookings from 2015 to 2016 and a slight decline in 2017 compared to 2016.\n",
        "* The count plot, broken down by hotel type provides additional insights.\n",
        "For each year (2015, 2016, 2017), we can see the distribution of bookings between different hotel types.\n",
        "In 2016 and 2017, both hotel types show an increase in bookings compared to 2015, but one type (e.g., \"City Hotel\") might have a higher booking volume than the other (e.g., \"Resort Hotel\")."
      ],
      "metadata": {
        "id": "mZtgC_hjphqO"
      }
    },
    {
      "cell_type": "markdown",
      "source": [
        "##### 3. Will the gained insights help creating a positive business impact?\n",
        "Are there any insights that lead to negative growth? Justify with specific reason."
      ],
      "metadata": {
        "id": "rFu4xreNphqO"
      }
    },
    {
      "cell_type": "markdown",
      "source": [
        "There is slight decline in the counts of visits in 2017. This is a concern for business. Business should mitigate this condition by analysing the reasons fro negative growth which are such as operational issues, negative reviews, market conditions, etc. Business should look into the services provided to the guests, ease to the customers, soothing market conditions."
      ],
      "metadata": {
        "id": "ey_0qi68phqO"
      }
    },
    {
      "cell_type": "markdown",
      "source": [
        "#### Chart - 9"
      ],
      "metadata": {
        "id": "YJ55k-q6phqO"
      }
    },
    {
      "cell_type": "code",
      "source": [
        "# Chart - 9 visualization code\n",
        "# Assuming 'grouped_by_hotel' is the DataFrame grouped by hotel\n",
        "# Calculate average ADR for each hotel type\n",
        "avg_adr_of_hotels = grouped_by_hotel['adr'].agg(np.mean).reset_index().rename(columns = {'adr':'avg_adr'})   # calculating average adr\n",
        "avg_adr_of_hotels\n",
        "\n",
        "# Set up the figure size for the plot\n",
        "colors = ['red',\"orange\"]\n",
        "plt.figure(figsize = (5,4))\n",
        "\n",
        "# Create a bar plot using Seaborn\n",
        "sns.barplot(x = avg_adr_of_hotels['hotel'], y = avg_adr_of_hotels['avg_adr'], palette = colors )\n",
        "plt.xlabel('Hotel')\n",
        "plt.ylabel('Average ADR')\n",
        "plt.title('Average ADR by Hotel')\n",
        "\n",
        "# Display the plot\n",
        "plt.show()"
      ],
      "metadata": {
        "id": "B2aS4O1ophqO"
      },
      "execution_count": null,
      "outputs": []
    },
    {
      "cell_type": "markdown",
      "source": [
        "##### 1. Why did you pick the specific chart?"
      ],
      "metadata": {
        "id": "gCFgpxoyphqP"
      }
    },
    {
      "cell_type": "markdown",
      "source": [
        "The bar plot is an appropriate choice in this context because it effectively communicates the average ADR for city hotels and resort hotels, allowing stakeholders to quickly grasp and compare the financial performance in terms of accommodation rates between different types of hotels."
      ],
      "metadata": {
        "id": "TVxDimi2phqP"
      }
    },
    {
      "cell_type": "markdown",
      "source": [
        "##### 2. What is/are the insight(s) found from the chart?"
      ],
      "metadata": {
        "id": "OVtJsKN_phqQ"
      }
    },
    {
      "cell_type": "markdown",
      "source": [
        "The chart clearly shows the average daily rate (ADR) comparison between two types of hotels: likely city hotels (represented by red) and resort hotels (represented by orange).\n",
        "It is evident that one type of hotel has a relatively higher average ADR compared to the other."
      ],
      "metadata": {
        "id": "ngGi97qjphqQ"
      }
    },
    {
      "cell_type": "markdown",
      "source": [
        "##### 3. Will the gained insights help creating a positive business impact?\n",
        "Are there any insights that lead to negative growth? Justify with specific reason."
      ],
      "metadata": {
        "id": "lssrdh5qphqQ"
      }
    },
    {
      "cell_type": "markdown",
      "source": [
        "The insights gained from analyzing the average ADR by hotel type can indeed help create a positive business impact by optimizing revenue strategies and resource allocation. However, identifying lower-than-expected ADR or disparities between hotel types can also provide critical insights into potential negative growth factors that need addressing. Continuous monitoring and adjustment of pricing and operational strategies based on these insights will be essential for sustaining positive growth in the competitive hospitality industry."
      ],
      "metadata": {
        "id": "tBpY5ekJphqQ"
      }
    },
    {
      "cell_type": "markdown",
      "source": [
        "#### Chart - 10"
      ],
      "metadata": {
        "id": "U2RJ9gkRphqQ"
      }
    },
    {
      "cell_type": "code",
      "source": [
        "# Chart - 10 visualization code\n",
        "\n",
        "# Creating line plot using dataset\n",
        "plt.figure(figsize=(12,6))\n",
        "sns.lineplot(x='arrival_date_month', y='adr', hue='hotel', data= df)\n",
        "plt.show()"
      ],
      "metadata": {
        "id": "GM7a4YP4phqQ"
      },
      "execution_count": null,
      "outputs": []
    },
    {
      "cell_type": "markdown",
      "source": [
        "##### 1. Why did you pick the specific chart?"
      ],
      "metadata": {
        "id": "1M8mcRywphqQ"
      }
    },
    {
      "cell_type": "markdown",
      "source": [
        "The line plot is chosen for its ability to showcase temporal trends and variations in ADR across different months and hotel types. It provides a clear, comparative view that is essential for understanding seasonal patterns, identifying trends, and making informed decisions in hospitality management."
      ],
      "metadata": {
        "id": "8agQvks0phqQ"
      }
    },
    {
      "cell_type": "markdown",
      "source": [
        "##### 2. What is/are the insight(s) found from the chart?"
      ],
      "metadata": {
        "id": "tgIPom80phqQ"
      }
    },
    {
      "cell_type": "markdown",
      "source": [
        "The line plot of ADR by month and hotel type provides valuable insights into seasonal pricing trends, comparisons between hotel types, and the impact of external factors on pricing decisions. These insights are crucial for formulating effective revenue management strategies and optimizing business performance in the hospitality industry."
      ],
      "metadata": {
        "id": "Qp13pnNzphqQ"
      }
    },
    {
      "cell_type": "markdown",
      "source": [
        "##### 3. Will the gained insights help creating a positive business impact?\n",
        "Are there any insights that lead to negative growth? Justify with specific reason."
      ],
      "metadata": {
        "id": "JMzcOPDDphqR"
      }
    },
    {
      "cell_type": "markdown",
      "source": [
        "The insights gained from analyzing ADR trends by hotel type and month can indeed help create a positive business impact by optimizing pricing strategies, forecasting demand, and enhancing competitive positioning. However, identifying negative growth factors such as price sensitivity or adverse market conditions is equally crucial. Continuous monitoring of ADR trends and proactive adjustment of strategies based on these insights will be essential for sustaining positive growth and profitability in the hospitality industry."
      ],
      "metadata": {
        "id": "R4Ka1PC2phqR"
      }
    },
    {
      "cell_type": "markdown",
      "source": [
        "#### Chart - 11"
      ],
      "metadata": {
        "id": "x-EpHcCOp1ci"
      }
    },
    {
      "cell_type": "code",
      "source": [
        "# Chart - 11 visualization code\n",
        "\n",
        "# Calculate the average waiting period for each hotel type\n",
        "# 'grouped_by_hotel' is assumed to be a DataFrame grouped by hotel\n",
        "d5 = pd.DataFrame(grouped_by_hotel['days_in_waiting_list'].agg(np.mean).reset_index().rename(columns = {'days_in_waiting_list':'avg_waiting_period'}))\n",
        "\n",
        "# Set up the figure size for the plot\n",
        "colors = ['#FF6347', '#4682B4']\n",
        "plt.figure(figsize = (8,5))\n",
        "\n",
        "# Create a bar plot using Seaborn\n",
        "sns.barplot(x = d5['hotel'], y = d5['avg_waiting_period'], palette = colors )\n",
        "\n",
        "plt.xlabel('Hotel')\n",
        "plt.ylabel('Average Waiting Period')\n",
        "plt.title('Average Waiting Period by Hotel')\n",
        "\n",
        "#Displaying the plot\n",
        "plt.show()"
      ],
      "metadata": {
        "id": "mAQTIvtqp1cj"
      },
      "execution_count": null,
      "outputs": []
    },
    {
      "cell_type": "markdown",
      "source": [
        "##### 1. Why did you pick the specific chart?\n",
        "\n",
        "\n"
      ],
      "metadata": {
        "id": "X_VqEhTip1ck"
      }
    },
    {
      "cell_type": "markdown",
      "source": [
        "The bar plot was selected because it effectively communicates the comparison of average waiting periods between different hotel types (city hotel vs. resort hotel) in a clear and visually engaging manner. It allows viewers to quickly grasp the insights regarding waiting times at different types of hotels."
      ],
      "metadata": {
        "id": "-vsMzt_np1ck"
      }
    },
    {
      "cell_type": "markdown",
      "source": [
        "##### 2. What is/are the insight(s) found from the chart?"
      ],
      "metadata": {
        "id": "8zGJKyg5p1ck"
      }
    },
    {
      "cell_type": "markdown",
      "source": [
        "The insights gained from the average waiting period analysis by hotel type provide valuable information for operational improvements and enhancing customer experience. Shorter waiting periods contribute positively to business outcomes by improving customer satisfaction and operational efficiency. Conversely, longer waiting periods highlight areas for improvement to prevent potential negative impacts on guest satisfaction and business performance. Thus, the focus should be on optimizing processes to minimize waiting times and maximize operational efficiency in hospitality operations."
      ],
      "metadata": {
        "id": "ZYdMsrqVp1ck"
      }
    },
    {
      "cell_type": "markdown",
      "source": [
        "##### 3. Will the gained insights help creating a positive business impact?\n",
        "Are there any insights that lead to negative growth? Justify with specific reason."
      ],
      "metadata": {
        "id": "PVzmfK_Ep1ck"
      }
    },
    {
      "cell_type": "markdown",
      "source": [
        "The insights gained from analyzing the average waiting period by hotel type can help create a positive business impact by optimizing reservation processes and enhancing guest satisfaction. However, identifying and addressing longer waiting periods is critical to avoid potential negative growth factors such as customer dissatisfaction and revenue loss. Continuous monitoring and improvement of reservation management practices based on these insights will be essential for maintaining competitiveness and profitability in the hospitality industry.\n",
        "\n",
        "\n",
        "\n",
        "\n",
        "\n"
      ],
      "metadata": {
        "id": "druuKYZpp1ck"
      }
    },
    {
      "cell_type": "markdown",
      "source": [
        "#### Chart - 12"
      ],
      "metadata": {
        "id": "n3dbpmDWp1ck"
      }
    },
    {
      "cell_type": "code",
      "source": [
        "# Chart - 11 visualization code\n",
        "\n",
        "# Set up the figure size for the plot\n",
        "plt.figure(figsize=(8,6))\n",
        "colors = ['#FF6347', '#4682B4']\n",
        "\n",
        "# Create a count plot using Seaborn\n",
        "sns.countplot(data = df, x = 'is_repeated_guest', palette = colors)\n",
        "plt.title('Graph showing whether guest is repeated guest')\n",
        "plt.xlabel('Is Repeated Guest')\n",
        "plt.ylabel('Count')\n",
        "\n",
        "# Display the plot\n",
        "plt.show()"
      ],
      "metadata": {
        "id": "AEfwDPZshPW2"
      },
      "execution_count": null,
      "outputs": []
    },
    {
      "cell_type": "markdown",
      "source": [
        "##### 1. Why did you pick the specific chart?"
      ],
      "metadata": {
        "id": "ylSl6qgtp1ck"
      }
    },
    {
      "cell_type": "markdown",
      "source": [
        "The countplot was chosen because it is well-suited for displaying categorical data comparisons and provides a clear, immediate understanding of the distribution of repeated and non-repeated guests in the dataset."
      ],
      "metadata": {
        "id": "m2xqNkiQp1ck"
      }
    },
    {
      "cell_type": "markdown",
      "source": [
        "##### 2. What is/are the insight(s) found from the chart?"
      ],
      "metadata": {
        "id": "ZWILFDl5p1ck"
      }
    },
    {
      "cell_type": "markdown",
      "source": [
        "* The count plot shows the distribution of guests categorized as repeated guests (is_repeated_guest = 1) versus non-repeated guests (is_repeated_guest = 0).\n",
        "\n",
        "It is evident that guensts are non-repeated guests. It underscores the importance of focusing on guest satisfaction, service quality, and targeted marketing efforts to maximize customer retention and ultimately drive positive business outcomes in the hospitality industry."
      ],
      "metadata": {
        "id": "x-lUsV2mp1ck"
      }
    },
    {
      "cell_type": "markdown",
      "source": [
        "##### 3. Will the gained insights help creating a positive business impact?\n",
        "Are there any insights that lead to negative growth? Justify with specific reason."
      ],
      "metadata": {
        "id": "M7G43BXep1ck"
      }
    },
    {
      "cell_type": "markdown",
      "source": [
        "* The insights gained from analyzing repeated guests versus first-time guests can help create a positive business impact by focusing on customer retention, enhancing loyalty programs, and improving overall guest experience.\n",
        "* However, identifying and addressing issues related to low customer retention among repeated guests is crucial to avoid potential negative growth factors. Continuous efforts in customer relationship management and personalized guest services based on these insights will be essential for sustaining growth and profitability in the competitive hospitality industry."
      ],
      "metadata": {
        "id": "5wwDJXsLp1cl"
      }
    },
    {
      "cell_type": "markdown",
      "source": [
        "#### Chart - 13"
      ],
      "metadata": {
        "id": "Ag9LCva-p1cl"
      }
    },
    {
      "cell_type": "code",
      "source": [
        "# Chart - 13 visualization code\n",
        "\n",
        "# Get the top 10 countries by the number of occurrences in the 'country' column\n",
        "top_10_countries = df[\"country\"].value_counts().head(10)\n",
        "print(top_10_countries)\n",
        "\n",
        "# Define colors for the pie chart\n",
        "colors = ['#FF6347', '#4682B4', '#7FFF00', '#FFD700', '#87CEEB', '#FFA07A', '#6A5ACD', '#FF69B4', '#40E0D0', '#DAA520']\n",
        "\n",
        "# Set up the figure size for the plot\n",
        "plt.figure(figsize = (6,5))\n",
        "\n",
        "plt.title(\"Top 10 Countries\")\n",
        "\n",
        "# Create a doughnut chart (pie chart)  using the top 10 countries data\n",
        "plt.pie(top_10_countries, colors = colors, startangle = 35, autopct =\"%.2f\", labels=top_10_countries.index, wedgeprops={'width': 0.6})\n",
        "plt.show()"
      ],
      "metadata": {
        "id": "EUfxeq9-p1cl"
      },
      "execution_count": null,
      "outputs": []
    },
    {
      "cell_type": "markdown",
      "source": [
        "##### 1. Why did you pick the specific chart?"
      ],
      "metadata": {
        "id": "E6MkPsBcp1cl"
      }
    },
    {
      "cell_type": "markdown",
      "source": [
        "The doughnut chart (pie chart) was chosen specifically for its ability to effectively display the composition and relative proportions of the top 10 countries in terms of guest counts. It allows viewers to easily compare the contribution of each country to the total number of guests, making it a suitable choice for this type of data visualization."
      ],
      "metadata": {
        "id": "V22bRsFWp1cl"
      }
    },
    {
      "cell_type": "markdown",
      "source": [
        "##### 2. What is/are the insight(s) found from the chart?"
      ],
      "metadata": {
        "id": "2cELzS2fp1cl"
      }
    },
    {
      "cell_type": "markdown",
      "source": [
        "The pie chart depicting the top 10 countries by bookings provides insights into customer demographics, market segmentation opportunities, and potential seasonal trends in travel behavior. These insights are crucial for strategic decision-making in marketing, customer service, and operational planning within the hospitality industry."
      ],
      "metadata": {
        "id": "ozQPc2_Ip1cl"
      }
    },
    {
      "cell_type": "markdown",
      "source": [
        "##### 3. Will the gained insights help creating a positive business impact?\n",
        "Are there any insights that lead to negative growth? Justify with specific reason."
      ],
      "metadata": {
        "id": "3MPXvC8up1cl"
      }
    },
    {
      "cell_type": "markdown",
      "source": [
        "The insights gained from analyzing the distribution of bookings among the top 10 countries can indeed help create a positive business impact by optimizing marketing strategies, enhancing revenue opportunities, and improving operational efficiency. However, it is essential to address potential negative growth factors such as dependency on specific markets and market saturation by adopting a diversified approach and proactive risk management strategies. Continuous monitoring of booking trends and adaptation of strategies based on these insights will be crucial for sustained growth and resilience in the hospitality industry."
      ],
      "metadata": {
        "id": "hSN7CEApMTk8"
      }
    },
    {
      "cell_type": "markdown",
      "source": [
        "####Chart - 14"
      ],
      "metadata": {
        "id": "Ehb79SczpgAF"
      }
    },
    {
      "cell_type": "code",
      "source": [
        "# Chart - 14 visualization code\n",
        "\n",
        "# Filter the DataFrame to include only non-cancelled bookings\n",
        "not_cancelled = df[df[\"is_canceled\"] == 0]\n",
        "\n",
        "# Get the top 10 countries by the number of non-cancelled bookings\n",
        "top_10_countries = not_cancelled[\"country\"].value_counts().head(10)\n",
        "print(top_10_countries)\n",
        "\n",
        "# Define colors for the pie charts\n",
        "colors = ['#FF6347', '#4682B4', '#7FFF00', '#FFD700', '#87CEEB', '#FFA07A', '#6A5ACD', '#FF69B4', '#40E0D0', '#DAA520']\n",
        "\n",
        "# Set up the figure size for the plots\n",
        "plt.figure(figsize=(14, 7))\n",
        "\n",
        "# Create the first subplot for non-cancelled bookings\n",
        "plt.subplot(1, 2, 1)\n",
        "plt.title(\"Top 10 Countries Not to Cancel\")\n",
        "plt.pie(top_10_countries, colors=colors, startangle=35, autopct=\"%.2f%%\", labels=top_10_countries.index)\n",
        "\n",
        "# Filter the DataFrame to include only cancelled bookings\n",
        "cancelled = df[df[\"is_canceled\"] == 1]\n",
        "\n",
        "# Get the top 10 countries by the number of cancelled bookings\n",
        "top_10_countries = cancelled[\"country\"].value_counts().head(10)\n",
        "\n",
        "# Create the second subplot for cancelled bookings\n",
        "plt.subplot(1, 2, 2)\n",
        "plt.title(\"Top 10 Countries to Cancel\")\n",
        "plt.pie(top_10_countries, colors=colors, startangle=20, autopct=\"%.2f%%\", labels=top_10_countries.index)\n",
        "\n",
        "# Display the plots\n",
        "plt.show()\n"
      ],
      "metadata": {
        "id": "-ORt2pFKppXB"
      },
      "execution_count": null,
      "outputs": []
    },
    {
      "cell_type": "markdown",
      "source": [
        "#####1. Why did you pick the specific chart?"
      ],
      "metadata": {
        "id": "E_vL3FizMlKs"
      }
    },
    {
      "cell_type": "markdown",
      "source": [
        "The side-by-side pie chart comparison of top countries for not canceled and canceled bookings was chosen because it effectively presents a comparative analysis of cancellation patterns across different countries. It allows stakeholders in the hospitality industry to quickly grasp which countries are more prone to cancellations and how these patterns compare to countries with successful bookings."
      ],
      "metadata": {
        "id": "F6b05-OIMlEN"
      }
    },
    {
      "cell_type": "markdown",
      "source": [
        "##### 2. What is/are the insight(s) found from the chart?"
      ],
      "metadata": {
        "id": "2AswS_sEMk7h"
      }
    },
    {
      "cell_type": "markdown",
      "source": [
        "The insights gained can guide hotels in optimizing their strategies to enhance booking conversion rates, reduce cancellations, and improve overall guest satisfaction by focusing on key markets and addressing potential issues leading to cancellations."
      ],
      "metadata": {
        "id": "VskPcaMGMkxz"
      }
    },
    {
      "cell_type": "markdown",
      "source": [
        "##### 3. Will the gained insights help creating a positive business impact?\n",
        "Are there any insights that lead to negative growth? Justify with specific reason."
      ],
      "metadata": {
        "id": "_Pg0LKirMklf"
      }
    },
    {
      "cell_type": "markdown",
      "source": [
        "The insights gained from analyzing booking and cancellation patterns across different countries can indeed help create a positive business impact by optimizing marketing strategies, reducing cancellations, and improving revenue management. However, it is crucial to address negative growth factors such as high cancellation rates and dependency on specific markets through targeted initiatives aimed at enhancing customer satisfaction, optimizing booking processes, and diversifying market outreach. Continuous monitoring and adaptation of strategies based on these insights will be essential for sustainable growth and resilience in the hospitality industry."
      ],
      "metadata": {
        "id": "jWqf9SU_MkfT"
      }
    },
    {
      "cell_type": "markdown",
      "source": [
        "####Chart - 15"
      ],
      "metadata": {
        "id": "PS5audikp5mc"
      }
    },
    {
      "cell_type": "code",
      "source": [
        "# Chart - 15 visualization code\n",
        "\n",
        "# Get the counts of each meal type in the 'meal' column\n",
        "meal_type = df['meal'].value_counts()\n",
        "print(meal_type.index)\n",
        "print(meal_type.values)\n",
        "print(meal_type)\n",
        "\n",
        "# Define colors for the bar chart\n",
        "colors = ['#FF6347', '#4682B4', '#7FFF00', '#FFD700', '#87CEEB']\n",
        "\n",
        "# Set up the figure size and background color for the plot\n",
        "plt.figure(figsize =(6,3),\n",
        "           facecolor = \"#DDBF28\")\n",
        "\n",
        "# Create a bar plot using Seaborn\n",
        "plt.bar(meal_type.index, meal_type.values,color= colors)\n",
        "plt.xlabel(\"Meal Type\")\n",
        "plt.ylabel('Count')\n",
        "plt.title('Count of Different Meal Types')\n",
        "\n",
        "# Display the plot\n",
        "plt.show()"
      ],
      "metadata": {
        "id": "7ncjmprjqDZm"
      },
      "execution_count": null,
      "outputs": []
    },
    {
      "cell_type": "markdown",
      "source": [
        "##### 1. Why did you pick the specific chart?"
      ],
      "metadata": {
        "id": "xATD5QNEOFJx"
      }
    },
    {
      "cell_type": "markdown",
      "source": [
        "The bar chart is used to show comparision of prefered meal type by the guests during their stay in hotel. The abbreviations used here are:-\n",
        "* BB means bed and breakfast\n",
        "* SC means self-catering (no meals are included)\n",
        "* HB means half board, in which breakfast and dinner are included.\n",
        "* FB means full board, in which breakfast, lunch and dinner are included."
      ],
      "metadata": {
        "id": "S2Ue-L2DOHB5"
      }
    },
    {
      "cell_type": "markdown",
      "source": [
        "##### 2. What is/are the insight(s) found from the chart?"
      ],
      "metadata": {
        "id": "kFvTmPllOFEj"
      }
    },
    {
      "cell_type": "markdown",
      "source": [
        " The insights we can draw here is that the most preferd type of meal is BB i.e. Bed and Breakfast. Other Meal types are significantly not prfered by guest compared to BB type. The 2nd best most prefered meal type is SC which is self catering. The difference between top two types is huge which is about to 6000 counts."
      ],
      "metadata": {
        "id": "GYrM41BVOE-L"
      }
    },
    {
      "cell_type": "markdown",
      "source": [
        "##### 3. Will the gained insights help creating a positive business impact?\n",
        "Are there any insights that lead to negative growth? Justify with specific reason."
      ],
      "metadata": {
        "id": "xST754mcOE3N"
      }
    },
    {
      "cell_type": "markdown",
      "source": [
        "This bar shows very much negative insights as there is a huge difference in top two most prefered Meal type. This is due to the factors such as cost management and demand fluctuations through effective menu planning, inventory management, and customer-centric strategies.Continuous monitoring of guest preferences and adaptation of dining offerings based on these insights will be crucial for maintaining competitiveness and profitability in the hospitality industry."
      ],
      "metadata": {
        "id": "xUd-spWtOEzd"
      }
    },
    {
      "cell_type": "markdown",
      "source": [
        "#### Chart - 16 - Correlation Heatmap"
      ],
      "metadata": {
        "id": "NC_X3p0fY2L0"
      }
    },
    {
      "cell_type": "code",
      "source": [
        "# Correlation Heatmap visualization code\n",
        "\n",
        "# Calculate the correlation matrix for the selected columns\n",
        "corr_df = df[['lead_time','previous_cancellations', 'previous_bookings_not_canceled',\n",
        "                    'booking_changes', 'days_in_waiting_list', 'adr', 'required_car_parking_spaces', 'total_of_special_requests']].corr()\n",
        "\n",
        "# Set up the figure size for the heatmap\n",
        "f, ax = plt.subplots(figsize=(12, 12))\n",
        "\n",
        "# Create a heatmap using Seaborn\n",
        "sns.heatmap(corr_df, annot = True, fmt='.2f', annot_kws={'size': 10},  vmax=1, square=True, cmap=\"YlGnBu\")\n",
        "\n",
        "# Show the plot\n",
        "plt.show()"
      ],
      "metadata": {
        "id": "xyC9zolEZNRQ"
      },
      "execution_count": null,
      "outputs": []
    },
    {
      "cell_type": "markdown",
      "source": [
        "##### 1. Why did you pick the specific chart?"
      ],
      "metadata": {
        "id": "UV0SzAkaZNRQ"
      }
    },
    {
      "cell_type": "markdown",
      "source": [
        "This correlation chart shows the correlation between various variables of a datasets."
      ],
      "metadata": {
        "id": "DVPuT8LYZNRQ"
      }
    },
    {
      "cell_type": "markdown",
      "source": [
        "#### Chart - 17 - Pair Plot"
      ],
      "metadata": {
        "id": "q29F0dvdveiT"
      }
    },
    {
      "cell_type": "code",
      "source": [
        "# Pair Plot visualization code\n",
        "sns.pairplot(df)\n",
        "plt.show"
      ],
      "metadata": {
        "id": "o58-TEIhveiU"
      },
      "execution_count": null,
      "outputs": []
    },
    {
      "cell_type": "markdown",
      "source": [
        "##### 1. Why did you pick the specific chart?"
      ],
      "metadata": {
        "id": "EXh0U9oCveiU"
      }
    },
    {
      "cell_type": "markdown",
      "source": [
        "A pair plot is chosen for its ability to provide a holistic view of the dataset, allowing us to understand relationships between variables and gain insights that can inform further analysis or decision-making. It’s a versatile tool in exploratory data analysis (EDA) that facilitates both quantitative and qualitative understanding of data patterns."
      ],
      "metadata": {
        "id": "eMmPjTByveiU"
      }
    },
    {
      "cell_type": "markdown",
      "source": [
        "##### 2. What is/are the insight(s) found from the chart?"
      ],
      "metadata": {
        "id": "22aHeOlLveiV"
      }
    },
    {
      "cell_type": "markdown",
      "source": [
        "The pair plot visualization provides a comprehensive overview of the relationships and distributions within the dataset. Insights such as correlations, distributions, outliers, and patterns can guide further analysis and decision-making in various domains, including marketing, operations, and customer service. It serves as a starting point for deeper exploratory data analysis (EDA) and hypothesis testing to uncover meaningful insights and trends in the data."
      ],
      "metadata": {
        "id": "uPQ8RGwHveiV"
      }
    },
    {
      "cell_type": "markdown",
      "source": [
        "## **5. Solution to Business Objective**"
      ],
      "metadata": {
        "id": "JcMwzZxoAimU"
      }
    },
    {
      "cell_type": "markdown",
      "source": [
        "#### What do you suggest the client to achieve Business Objective ?\n",
        "Explain Briefly."
      ],
      "metadata": {
        "id": "8G2x9gOozGDZ"
      }
    },
    {
      "cell_type": "markdown",
      "source": [
        "##### Here are the some of the suggestions to the business clients to achieve Business Objective:-\n",
        "* **Improve Customer Experience and Satisfaction** - On the basis of insights gathered from the datasets there are some of the negative constraints from the point of view of guests so business clients should work positively on the issues and improve those.\n",
        "*  **Enhance Operational Efficiency** -  Clients should improve operational processes and resource allocation based on data insights to enhance efficiency and reduce costs. This can be done by optimize staffing levels, inventory management, and service allocation to match predicted demand patterns derived from data analysis.\n",
        "* **Optimize Revenue Management Strategies** - Adjust pricing strategies dynamically based on demand fluctuations observed in the data. Implement promotional pricing during low occupancy periods and optimize room rates during peak times.\n",
        "* **Develop Competitive Advantage** - Differentiate the hotel's offerings by identifying and capitalizing on unique strengths and market opportunities.Benchmark against competitors using industry data and analytics. Identify areas where the hotel can excel and develop strategies to attract and retain guests through superior service, amenities, or unique experiences.\n",
        "* **Implement Data-Driven Decision Making** - Foster a culture of data-driven decision making across the organization to drive continuous improvement and innovation.Establish clear KPIs (Key Performance Indicators) aligned with business objectives. Regularly analyze performance metrics and adjust strategies based on insights derived from ongoing data analysis."
      ],
      "metadata": {
        "id": "pASKb0qOza21"
      }
    },
    {
      "cell_type": "markdown",
      "source": [
        "# **Conclusion**"
      ],
      "metadata": {
        "id": "gCX9965dhzqZ"
      }
    },
    {
      "cell_type": "markdown",
      "source": [
        "1. City Hotel is popular and profitable for travelers.\n",
        "\n",
        "2. July and August see the most bookings.\n",
        "\n",
        "3. Top bookings from Portugal & Great Britain.\n",
        "\n",
        "4. Guests stay 1-4 days on average.\n",
        "\n",
        "5. City Hotel retains more guests.\n",
        "\n",
        "6. Lead time, waiting list, room assignment don't heavily affect cancellations.\n",
        "\n",
        "7. Corporate guests repeat most, TA/TO least; TA/TO cancels most, Corporate cancels least.\n",
        "\n",
        "8. Longer stays decrease as ADR increases, likely to save costs.\n",
        "\n",
        "9. The most prfered meal type is BB i.e. Bed and Breakfast"
      ],
      "metadata": {
        "id": "Fjb1IsQkh3yE"
      }
    },
    {
      "cell_type": "markdown",
      "source": [
        "### ***Hurrah! You have successfully completed your EDA Capstone Project !!!***"
      ],
      "metadata": {
        "id": "gIfDvo9L0UH2"
      }
    }
  ]
}